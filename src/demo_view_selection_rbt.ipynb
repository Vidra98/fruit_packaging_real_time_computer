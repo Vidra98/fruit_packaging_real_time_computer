{
 "cells": [
  {
   "cell_type": "code",
   "execution_count": 1,
   "metadata": {},
   "outputs": [
    {
     "name": "stdout",
     "output_type": "stream",
     "text": [
      "Jupyter environment detected. Enabling Open3D WebVisualizer.\n",
      "[Open3D INFO] WebRTC GUI backend enabled.\n",
      "[Open3D INFO] WebRTCWindowSystem: HTTP handshake server disabled.\n"
     ]
    },
    {
     "name": "stderr",
     "output_type": "stream",
     "text": [
      "INFO - 2023-07-03 15:41:09,907 - utils - NumExpr defaulting to 8 threads.\n",
      "INFO - 2023-07-03 15:41:11,507 - base_toolkit - Could not load plugin 'qt' from 'pyface.ui.qt.init'\n",
      "INFO - 2023-07-03 15:41:11,508 - base_toolkit - No pyface.toolkits plugin could be loaded for qt\n",
      "INFO - 2023-07-03 15:41:11,509 - base_toolkit - Could not load traitsui.toolkits plugin 'qt' from 'traitsui.qt4'\n",
      "INFO - 2023-07-03 15:41:11,512 - base_toolkit - Could not load traitsui.toolkits plugin 'wx' from 'traitsui.wx'\n",
      "INFO - 2023-07-03 15:41:11,672 - base_toolkit - Could not load plugin 'qt4' from 'pyface.ui.qt.init'\n",
      "INFO - 2023-07-03 15:41:11,691 - base_toolkit - No pyface.toolkits plugin could be loaded for qt4\n",
      "INFO - 2023-07-03 15:41:11,698 - base_toolkit - Could not load traitsui.toolkits plugin 'qt4' from 'traitsui.qt4'\n"
     ]
    }
   ],
   "source": [
    "from PyLQR.sim import KDLRobot\n",
    "from PyLQR.system import PosOrnPlannerSys, PosOrnKeypoint\n",
    "from PyLQR.solver import BatchILQRCP, BatchILQR, ILQRRecursive\n",
    "from PyLQR.utils import primitives, PythonCallbackMessage\n",
    "\n",
    "import numpy as np\n",
    "import matplotlib.pyplot as plt\n",
    "import cv2\n",
    "from tqdm import tqdm\n",
    "\n",
    "import logging\n",
    "import sys\n",
    "\n",
    "from scipy.spatial.transform import Rotation \n",
    "\n",
    "from cv_bridge import CvBridge, CvBridgeError\n",
    "\n",
    "from utils.camera_utils import RealCamera, RealCameraROS\n",
    "from utils.transform_utils import *\n",
    "from utils.iLQR_wrapper import iLQR\n",
    "from utils.visualisation_utils import draw_triangle, draw_box\n",
    "from utils.views_utils import *\n",
    "from utils.ROS_utils import generate_grasps_client, format_pointcloud_msg, run_action, get_camera_pose, gridRegistrator\n",
    "\n",
    "import argparse\n",
    "from scipy.spatial.transform import Rotation\n",
    "\n",
    "import time\n",
    "\n",
    "from contact_grasp.srv import contactGraspnetPointcloud2, contactGraspnetPointcloud2Response\n",
    "\n",
    "import json\n",
    "import rospy\n",
    "from cv_bridge import CvBridge, CvBridgeError\n",
    "from sensor_msgs import point_cloud2\n",
    "from sensor_msgs.msg import PointField, CameraInfo, Image, PointCloud2\n",
    "from std_msgs.msg import Header\n",
    "from geometry_msgs.msg import PoseArray, Pose\n",
    "import message_filters\n",
    "\n",
    "import open3d as o3d\n",
    "\n",
    "import rospy\n",
    "from cv_bridge import CvBridge, CvBridgeError\n",
    "from sensor_msgs.msg import Image\n",
    "from contact_grasp.srv import segmentationSrv, segmentationSrvResponse\n",
    "from utils.camera_utils import RealCamera, RealCameraROS"
   ]
  },
  {
   "attachments": {},
   "cell_type": "markdown",
   "metadata": {},
   "source": [
    "# Connect to camera"
   ]
  },
  {
   "cell_type": "code",
   "execution_count": 26,
   "metadata": {},
   "outputs": [
    {
     "name": "stdout",
     "output_type": "stream",
     "text": [
      "Camera topic found\n"
     ]
    }
   ],
   "source": [
    "bridge = CvBridge()\n",
    "try:\n",
    "    rospy.init_node(\"python_node\",anonymous=True)\n",
    "except:\n",
    "    print(\"rospy already initialized\")\n",
    "\n",
    "# dispose_pos = np.array([dim, 0.66, 0.1])\n",
    "# dispose_orn_wxyz = np.array([0, 1, 0.35, 0])\n",
    "\n",
    "camera_connexion = \"ROS\"\n",
    "if camera_connexion == \"ROS\":\n",
    "    camera = RealCameraROS()\n",
    "    intrinsic, distortion = camera.getIntrinsic()\n",
    "elif camera_connexion == \"pyWrapper\":\n",
    "    camera = RealCamera()\n",
    "    camera.start()\n",
    "    intrinsic, distortion = camera.getIntrinsic()\n",
    "    #retrieve image and depth to initialise camera, otherwise image is very dark\n",
    "    for i in range(15):\n",
    "        rgb, depth_image, depth_scale = camera.get_rgb_depth()\n",
    "else:\n",
    "    raise Exception(\"Please choose a valid camera connexion method: ROS or pyWrapper\")\n",
    "\n",
    "# sys.path.append(\"/home/vdrame/catkin_ws/src/py_panda/PyPanda\")\n",
    "from PyPanda import Robot\n",
    "from PyPanda import Utils\n",
    "rbt = Robot(\"panda\", use_gripper=True)\n",
    "current_pose = get_camera_pose(rbt, ee_depth=-0.10340-0.005)\n"
   ]
  },
  {
   "attachments": {},
   "cell_type": "markdown",
   "metadata": {},
   "source": [
    "# Get image, segmap and viewpoint"
   ]
  },
  {
   "cell_type": "code",
   "execution_count": 27,
   "metadata": {},
   "outputs": [
    {
     "name": "stdout",
     "output_type": "stream",
     "text": [
      "Downsampling time: 1.9128029346466064s, Filtering time: 0.19800305366516113s\n"
     ]
    }
   ],
   "source": [
    "#load pos and orn from json file\n",
    "with open('config/views_pos.json') as json_file:\n",
    "    views = json.load(json_file)\n",
    "\n",
    "pos_dif = 1000\n",
    "keys = views.keys()\n",
    "angle_range = [-140, 40]\n",
    "pc_fused = []\n",
    "pc_colors_fused = []\n",
    "reference_pose = np.eye(4)\n",
    "plot_coordinate = []\n",
    "# while (not detected or not detected_with_collision):\n",
    "horizon = 30\n",
    "\n",
    "# get pc\n",
    "bgr_cv, depth_cv, depth_scale = camera.get_rgb_depth()\n",
    "depth_cv = depth_cv * depth_scale\n",
    "rgb_cv = cv2.cvtColor(bgr_cv, cv2.COLOR_BGR2RGB)\n",
    "pc_fused, pc_colors_fused = depth2pc(depth_cv, intrinsic, rgb_cv)\n",
    "pc_fused, pc_colors_fused = regularize_pc(pc_fused, pc_colors_fused, \n",
    "                                            downsampling_method=\"voxel\", voxel_size=0.005,\n",
    "                                            outlier_filtering_method=\"radius\", radius_param_arg=[25, 0.015])\n",
    "\n",
    "\n",
    "pc_fused = current_pose @ np.concatenate((pc_fused, np.ones((pc_fused.shape[0], 1))), axis=1).T\n",
    "pc_fused = pc_fused.T[:, :3]\n",
    "\n",
    "#origin\n",
    "origin = o3d.geometry.TriangleMesh.create_coordinate_frame(size=0.2)\n",
    "\n",
    "#draw camera coordinate\n",
    "coordinate = o3d.geometry.TriangleMesh.create_coordinate_frame(size=0.1).transform(current_pose)\n",
    "coordinate_line = draw_triangle(color=[1,0,0]).transform(current_pose)\n",
    "plot_coordinate.append(coordinate)\n",
    "plot_coordinate.append(coordinate_line)\n",
    "\n",
    "#draw pc\n",
    "pc_o3d = o3d.geometry.PointCloud()\n",
    "pc_o3d.points = o3d.utility.Vector3dVector(pc_fused)\n",
    "pc_o3d.colors = o3d.utility.Vector3dVector(pc_colors_fused[:, [2,1,0]]/255)\n",
    "coordinate = o3d.geometry.TriangleMesh.create_coordinate_frame(size=0.1)\n",
    "pc_o3d.transform(reference_pose)\n",
    "to_draw = plot_coordinate.copy()\n",
    "to_draw.append(pc_o3d)\n",
    "to_draw.append(origin)\n",
    "\n",
    "o3d.visualization.draw_geometries(to_draw)"
   ]
  },
  {
   "cell_type": "code",
   "execution_count": 28,
   "metadata": {},
   "outputs": [
    {
     "name": "stdout",
     "output_type": "stream",
     "text": [
      "[0. 1. 2. 3.]\n"
     ]
    }
   ],
   "source": [
    "bridge = CvBridge()\n",
    "try:\n",
    "    rospy.init_node(\"python_node\",anonymous=True)\n",
    "except:\n",
    "    print(\"rospy already initialized\")\n",
    "\n",
    "bgr = cv2.cvtColor(rgb_cv, cv2.COLOR_RGB2BGR)\n",
    "#load cv image\n",
    "# img = cv2.imread(\"/home/vdrame/bgr.png\")\n",
    "\n",
    "#convert to ros image\n",
    "ros_img = bridge.cv2_to_imgmsg(bgr, encoding=\"bgr8\")\n",
    "\n",
    "#call service\n",
    "# rospy.wait_for_service(\"segmentation\")\n",
    "\n",
    "try:\n",
    "    segmentation = rospy.ServiceProxy(\"segmentation\", segmentationSrv)\n",
    "    resp = segmentation(ros_img)\n",
    "except rospy.ServiceException as e:\n",
    "    print(e)\n",
    "\n",
    "#convert to cv image\n",
    "segmap = bridge.imgmsg_to_cv2(resp.image, desired_encoding=\"passthrough\")\n",
    "print(np.unique(segmap))\n",
    "#show image\n",
    "cv2.imshow(\"segmented image\", segmap)\n",
    "cv2.imshow(\"rgb\", rgb_cv)\n",
    "key=cv2.waitKey(0)\n",
    "\n",
    "cv2.destroyAllWindows()"
   ]
  },
  {
   "cell_type": "code",
   "execution_count": 29,
   "metadata": {},
   "outputs": [],
   "source": [
    "# Compute ROI\n",
    "pc_ROI, pc_colors_ROI, bounding_point = get_ROI_box(pc_fused, pc_colors_fused, depth_cv, rgb_cv, segmap, intrinsic, current_pose, border_size = 0.0)\n"
   ]
  },
  {
   "cell_type": "code",
   "execution_count": 30,
   "metadata": {},
   "outputs": [
    {
     "data": {
      "text/plain": [
       "('view1', 0.1621701388888889)"
      ]
     },
     "execution_count": 30,
     "metadata": {},
     "output_type": "execute_result"
    }
   ],
   "source": [
    "\n",
    "compute_views_scores(views, pc_fused, pc_colors_fused, intrinsic, bounding_point, image_size=(720, 1280), show=True)\n"
   ]
  },
  {
   "cell_type": "code",
   "execution_count": 31,
   "metadata": {},
   "outputs": [
    {
     "ename": "NameError",
     "evalue": "name 'next_view' is not defined",
     "output_type": "error",
     "traceback": [
      "\u001b[0;31m---------------------------------------------------------------------------\u001b[0m",
      "\u001b[0;31mNameError\u001b[0m                                 Traceback (most recent call last)",
      "\u001b[0;32m<ipython-input-31-aa487ede8fbe>\u001b[0m in \u001b[0;36m<module>\u001b[0;34m\u001b[0m\n\u001b[1;32m     42\u001b[0m \u001b[0;34m\u001b[0m\u001b[0m\n\u001b[1;32m     43\u001b[0m \u001b[0mviewTransform\u001b[0m \u001b[0;34m=\u001b[0m \u001b[0mnp\u001b[0m\u001b[0;34m.\u001b[0m\u001b[0meye\u001b[0m\u001b[0;34m(\u001b[0m\u001b[0;36m4\u001b[0m\u001b[0;34m)\u001b[0m\u001b[0;34m\u001b[0m\u001b[0;34m\u001b[0m\u001b[0m\n\u001b[0;32m---> 44\u001b[0;31m \u001b[0mviewTransform\u001b[0m\u001b[0;34m[\u001b[0m\u001b[0;36m0\u001b[0m\u001b[0;34m:\u001b[0m\u001b[0;36m3\u001b[0m\u001b[0;34m,\u001b[0m \u001b[0;36m3\u001b[0m\u001b[0;34m]\u001b[0m \u001b[0;34m=\u001b[0m \u001b[0mviews\u001b[0m\u001b[0;34m[\u001b[0m\u001b[0mnext_view\u001b[0m\u001b[0;34m]\u001b[0m\u001b[0;34m[\u001b[0m\u001b[0;34m\"pos\"\u001b[0m\u001b[0;34m]\u001b[0m\u001b[0;34m\u001b[0m\u001b[0;34m\u001b[0m\u001b[0m\n\u001b[0m\u001b[1;32m     45\u001b[0m \u001b[0mviewTransform\u001b[0m\u001b[0;34m[\u001b[0m\u001b[0;36m0\u001b[0m\u001b[0;34m:\u001b[0m\u001b[0;36m3\u001b[0m\u001b[0;34m,\u001b[0m \u001b[0;36m0\u001b[0m\u001b[0;34m:\u001b[0m\u001b[0;36m3\u001b[0m\u001b[0;34m]\u001b[0m \u001b[0;34m=\u001b[0m \u001b[0mRotation\u001b[0m\u001b[0;34m.\u001b[0m\u001b[0mfrom_quat\u001b[0m\u001b[0;34m(\u001b[0m\u001b[0mnp\u001b[0m\u001b[0;34m.\u001b[0m\u001b[0marray\u001b[0m\u001b[0;34m(\u001b[0m\u001b[0mviews\u001b[0m\u001b[0;34m[\u001b[0m\u001b[0mnext_view\u001b[0m\u001b[0;34m]\u001b[0m\u001b[0;34m[\u001b[0m\u001b[0;34m\"orn_wxyz\"\u001b[0m\u001b[0;34m]\u001b[0m\u001b[0;34m)\u001b[0m\u001b[0;34m[\u001b[0m\u001b[0;34m[\u001b[0m\u001b[0;36m1\u001b[0m\u001b[0;34m,\u001b[0m \u001b[0;36m2\u001b[0m\u001b[0;34m,\u001b[0m \u001b[0;36m3\u001b[0m\u001b[0;34m,\u001b[0m \u001b[0;36m0\u001b[0m\u001b[0;34m]\u001b[0m\u001b[0;34m]\u001b[0m\u001b[0;34m)\u001b[0m\u001b[0;34m.\u001b[0m\u001b[0mas_matrix\u001b[0m\u001b[0;34m(\u001b[0m\u001b[0;34m)\u001b[0m\u001b[0;34m\u001b[0m\u001b[0;34m\u001b[0m\u001b[0m\n\u001b[1;32m     46\u001b[0m \u001b[0;34m\u001b[0m\u001b[0m\n",
      "\u001b[0;31mNameError\u001b[0m: name 'next_view' is not defined"
     ]
    }
   ],
   "source": [
    "# PC and bounding box for visualization\n",
    "pc_o3d = o3d.geometry.PointCloud()\n",
    "pc_o3d.points = o3d.utility.Vector3dVector(pc_fused)\n",
    "pc_o3d.colors = o3d.utility.Vector3dVector(pc_colors_fused[:, [2,1,0]]/255)\n",
    "\n",
    "bounding_point_o3d = draw_box(bounding_point[:, :3]) # o3d.utility.Vector3dVector(bounding_point[:, :3])\n",
    "bounding_point_o3d.paint_uniform_color([1,0,0])\n",
    "\n",
    "to_draw = plot_coordinate.copy()\n",
    "to_draw.append(pc_o3d)\n",
    "to_draw.append(bounding_point_o3d)\n",
    "\n",
    "# Draw camera coordinate\n",
    "for view_key in views:\n",
    "    viewTransform = np.eye(4)\n",
    "    viewTransform[0:3, 3] = views[view_key][\"pos\"]\n",
    "    viewTransform[0:3, 0:3] = Rotation.from_quat(np.array(views[view_key][\"orn_wxyz\"])[[1, 2, 3, 0]]).as_matrix()\n",
    "\n",
    "    # coordinate = o3d.geometry.TriangleMesh.create_coordinate_frame(size=0.1).transform(current_pose)\n",
    "    view_coordinate = o3d.geometry.TriangleMesh.create_coordinate_frame(size=0.1)\n",
    "    view_coordinate.transform(viewTransform)\n",
    "\n",
    "    view_coordinate_line = draw_triangle(color=[0, 0, 1]).transform(viewTransform)\n",
    "\n",
    "    to_draw.append(view_coordinate)\n",
    "    to_draw.append(view_coordinate_line)\n",
    "\n",
    "o3d.visualization.draw_geometries(to_draw)\n",
    "\n",
    "pc_o3d = o3d.geometry.PointCloud()\n",
    "pc_o3d.points = o3d.utility.Vector3dVector(pc_ROI)\n",
    "pc_o3d.colors = o3d.utility.Vector3dVector(pc_colors_ROI[:, [2,1,0]]/255)\n",
    "\n",
    "bounding_point_o3d = draw_box(bounding_point[:, :3]) # o3d.utility.Vector3dVector(bounding_point[:, :3])\n",
    "bounding_point_o3d.paint_uniform_color([1,0,0])\n",
    "\n",
    "# coordinate.translate([0,0 , 0.4])\n",
    "# pc_o3d.transform(current_pose)\n",
    "to_draw = plot_coordinate.copy()\n",
    "to_draw.append(pc_o3d)\n",
    "to_draw.append(bounding_point_o3d)\n",
    "\n",
    "viewTransform = np.eye(4)\n",
    "viewTransform[0:3, 3] = views[next_view][\"pos\"]\n",
    "viewTransform[0:3, 0:3] = Rotation.from_quat(np.array(views[next_view][\"orn_wxyz\"])[[1, 2, 3, 0]]).as_matrix()\n",
    "\n",
    "# coordinate = o3d.geometry.TriangleMesh.create_coordinate_frame(size=0.1).transform(current_pose)\n",
    "view_coordinate = o3d.geometry.TriangleMesh.create_coordinate_frame(size=0.1)\n",
    "view_coordinate.transform(viewTransform)\n",
    "\n",
    "view_coordinate_line = draw_triangle(color=[0, 0, 1]).transform(viewTransform)\n",
    "\n",
    "to_draw.append(view_coordinate)\n",
    "to_draw.append(view_coordinate_line)\n",
    "\n",
    "o3d.visualization.draw_geometries(to_draw)"
   ]
  },
  {
   "cell_type": "code",
   "execution_count": null,
   "metadata": {},
   "outputs": [],
   "source": []
  }
 ],
 "metadata": {
  "kernelspec": {
   "display_name": "Python 3",
   "language": "python",
   "name": "python3"
  },
  "language_info": {
   "codemirror_mode": {
    "name": "ipython",
    "version": 3
   },
   "file_extension": ".py",
   "mimetype": "text/x-python",
   "name": "python",
   "nbconvert_exporter": "python",
   "pygments_lexer": "ipython3",
   "version": "3.8.10"
  },
  "orig_nbformat": 4
 },
 "nbformat": 4,
 "nbformat_minor": 2
}
