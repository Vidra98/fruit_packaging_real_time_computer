{
 "cells": [
  {
   "cell_type": "code",
   "execution_count": 1,
   "metadata": {},
   "outputs": [],
   "source": [
    "from PyLQR.sim import KDLRobot\n",
    "from PyLQR.system import PosOrnPlannerSys, PosOrnKeypoint, AngularKeypoint\n",
    "from PyLQR.solver import BatchILQRCP, BatchILQR, ILQRRecursive\n",
    "from PyLQR.utils import primitives, PythonCallbackMessage\n"
   ]
  },
  {
   "cell_type": "code",
   "execution_count": 2,
   "metadata": {},
   "outputs": [
    {
     "ename": "IndentationError",
     "evalue": "unexpected indent (1692996687.py, line 2)",
     "output_type": "error",
     "traceback": [
      "\u001b[0;36m  File \u001b[0;32m\"/tmp/ipykernel_8757/1692996687.py\"\u001b[0;36m, line \u001b[0;32m2\u001b[0m\n\u001b[0;31m    self._control_freq = 20\u001b[0m\n\u001b[0m    ^\u001b[0m\n\u001b[0;31mIndentationError\u001b[0m\u001b[0;31m:\u001b[0m unexpected indent\n"
     ]
    }
   ],
   "source": [
    "#Load URDf for KDL and iLQR solver\n",
    "_control_freq = 20\n",
    "\n",
    "_dof = len(rbt.q)\n",
    "_nb_state_var = _dof\n",
    "_nb_ctrl_var = _dof\n",
    "_dt = 1/(_control_freq)\n",
    "\n",
    "#PATH_TO_URDF = \"/home/vdrame/project/client/panda_description/urdf/panda_arm_robosuite.urdf\"\n",
    "PATH_TO_URDF = \"/home/vdrame/Documents/ros_ws/src/rli_ws_base/py_panda/Tutorials/model.urdf\"\n",
    "\n",
    "BASE_FRAME = \"panda_link0\"\n",
    "TIP_FRAME = \"panda_tip\"\n",
    "#TIP_FRAME = \"panda_grasptarget\"\n",
    "\n",
    "# initial joint config\n",
    "q0 = rbt.q\n",
    "dq0 = [0]*rbt.dq\n",
    "\n",
    "# ##This is min and max value\n",
    "# _qMax = np.array([2.87,   1.75,  2.8973, -0.05,  2.8973,  3.75,   2.8973])\n",
    "# _qMin = np.array([-2.87, -1.75, -2.8973, -3.05, -2.8973, -0.015, -2.8973])\n",
    "\n",
    "_qMax = np.array([1.68,   1.6,  2.65, 0.05,  2.65,  3.5,   2.65])\n",
    "_qMin = np.array([-0.4, -1.6, -2.65, -2.95, -2.65, 0.05, -2.65])\n",
    "# _dqMax = np.array([2., 2., 2., 2., 2.6, 2.6, 2.6])\n",
    "_dqMax = np.array([.5, .5, .5, .5, .6, .6, .6])\n",
    "\n",
    "_rbt_KDL = KDLRobot(PATH_TO_URDF, BASE_FRAME, TIP_FRAME, q0, dq0)\n",
    "\n",
    "check_KDL_robosuite_alignement(rbt)"
   ]
  },
  {
   "cell_type": "code",
   "execution_count": null,
   "metadata": {},
   "outputs": [],
   "source": []
  }
 ],
 "metadata": {
  "kernelspec": {
   "display_name": "Python 3 (ipykernel)",
   "language": "python",
   "name": "python3"
  },
  "language_info": {
   "codemirror_mode": {
    "name": "ipython",
    "version": 3
   },
   "file_extension": ".py",
   "mimetype": "text/x-python",
   "name": "python",
   "nbconvert_exporter": "python",
   "pygments_lexer": "ipython3",
   "version": "3.7.9"
  },
  "orig_nbformat": 4
 },
 "nbformat": 4,
 "nbformat_minor": 2
}
