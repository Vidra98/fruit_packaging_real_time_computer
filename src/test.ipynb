{
 "cells": [
  {
   "cell_type": "code",
   "execution_count": 92,
   "metadata": {},
   "outputs": [],
   "source": [
    "#!/usr/bin/env python\n",
    "\n",
    "import numpy as np\n",
    "import matplotlib.pyplot as plt\n",
    "import cv2\n",
    "\n",
    "from scipy.spatial.transform import Rotation \n",
    "\n",
    "import rospy\n",
    "from cv_bridge import CvBridge, CvBridgeError\n",
    "from sensor_msgs.msg import Image, CameraInfo\n",
    "from geometry_msgs.msg import Pose"
   ]
  },
  {
   "attachments": {},
   "cell_type": "markdown",
   "metadata": {},
   "source": [
    "# generate grid"
   ]
  },
  {
   "attachments": {},
   "cell_type": "markdown",
   "metadata": {},
   "source": [
    "# Data hardcoded"
   ]
  },
  {
   "cell_type": "code",
   "execution_count": 2,
   "metadata": {},
   "outputs": [],
   "source": [
    "# For design purposes, to be replaced from acquisiton\n",
    "marker1_pos = np.array([0.1, 0.66, 0.1])\n",
    "marker1_rot = 0.78\n",
    "gridsizex = 0.4\n",
    "gridsizey = 0.5\n",
    "rot_mat = np.array([[np.cos(marker1_rot), -np.sin(marker1_rot), 0],\n",
    "                    [np.sin(marker1_rot), np.cos(marker1_rot), 0],\n",
    "                    [0, 0, 1]])\n",
    "marker2_pos = marker1_pos + rot_mat @ np.array([gridsizex, gridsizey, 0])\n",
    "\n",
    "marker2_rot = marker1_rot\n",
    "\n",
    "# Grid is an array of dictionnaries\n",
    "markers = {\"0\": {\"pos\": marker1_pos, \"rot\": marker1_rot},\n",
    "           \"1\": {\"pos\": marker2_pos, \"rot\": marker2_rot}}"
   ]
  },
  {
   "attachments": {},
   "cell_type": "markdown",
   "metadata": {},
   "source": [
    "# data from ROS"
   ]
  },
  {
   "cell_type": "code",
   "execution_count": 309,
   "metadata": {},
   "outputs": [],
   "source": [
    "rospy.init_node(\"python_node_aruco\",anonymous=True)\n",
    "show=True\n",
    "debug=False"
   ]
  },
  {
   "cell_type": "code",
   "execution_count": 324,
   "metadata": {},
   "outputs": [],
   "source": [
    "#TODO : add a function to get the position of the marker in the camera frame\n",
    "\n",
    "markers = {}\n",
    "\n",
    "try:\n",
    "    marker29 = rospy.wait_for_message(\"/aruco_simple/pose\", Pose, timeout=0.1)\n",
    "    marker29_pos = np.array([marker29.position.x, marker29.position.y, marker29.position.z])\n",
    "    marker29_rotation = Rotation.from_quat([marker29.orientation.x, marker29.orientation.y,\n",
    "                                            marker29.orientation.z, marker29.orientation.w])\n",
    "    marker26 = rospy.wait_for_message(\"/aruco_simple/pose2\", Pose, timeout=0.1)\n",
    "    marker26_pos = np.array([marker26.position.x, marker26.position.y, marker26.position.z])\n",
    "    marker26_rotation = Rotation.from_quat([marker26.orientation.x, marker26.orientation.y,\n",
    "                                            marker26.orientation.z, marker26.orientation.w])\n",
    "    markers = {\"marker26\": {\"pos\": marker26_pos, \"rot\": marker26_rotation.as_euler('XYZ', degrees=True)},\n",
    "               \"marker29\": {\"pos\": marker29_pos, \"rot\": marker29_rotation.as_euler('XYZ', degrees=True)}}\n",
    "    rot_mat = (marker26_rotation.as_matrix() + marker29_rotation.as_matrix()) / 2\n",
    "except:\n",
    "    rospy.logerr(\"Marker 26 or 29 not found\")\n",
    "\n",
    "if show:\n",
    "    # Get image\n",
    "    bridge = CvBridge()\n",
    "    image_msg = rospy.wait_for_message(\"/aruco_simple/result\", Image, timeout=0.1)\n",
    "    image = bridge.imgmsg_to_cv2(image_msg, desired_encoding=\"passthrough\")\n",
    "    image = cv2.cvtColor(image, cv2.COLOR_BGR2RGB)\n",
    "    cv2.imshow(\"image\", image)\n",
    "    cv2.waitKey(25)\n",
    "# cv2.destroyAllWindows()\n",
    "   \n",
    "#TODO demain: Change le module ros pour capter plusieurs aruco\n",
    "# S'abonner au topic du aruco detector\n",
    "# reprojetter les points sur le plan de la table"
   ]
  },
  {
   "cell_type": "markdown",
   "metadata": {},
   "source": []
  },
  {
   "cell_type": "code",
   "execution_count": 325,
   "metadata": {},
   "outputs": [],
   "source": [
    "#Number of cells\n",
    "CNx = 6\n",
    "CNy = 3.5\n",
    "CNz = int(CNx - 1 + CNy - 1)\n",
    "\n",
    "marker_TopLeft = \"marker26\"\n",
    "marker_BottomRight = \"marker29\"\n",
    "grid_rot= (markers[marker_BottomRight][\"rot\"] + markers[marker_TopLeft][\"rot\"])/2*np.pi/180\n",
    "marker_vect = markers[marker_BottomRight][\"pos\"] - markers[marker_TopLeft][\"pos\"]\n",
    "\n",
    "#grid size\n",
    "GS = rot_mat.T @ marker_vect\n",
    "grid = np.empty((int(CNx), int(CNy)), dtype=dict)\n",
    "\n",
    "grid[0, 0] = {\"pos\": markers[marker_TopLeft][\"pos\"], \"empty\": True}\n",
    "grid_data = {\"pos\": markers[marker_TopLeft][\"pos\"], \"rot\": grid_rot, \"CNx\": CNx, \"CNy\": CNy, \"CNz\": CNz}"
   ]
  },
  {
   "cell_type": "code",
   "execution_count": 326,
   "metadata": {},
   "outputs": [],
   "source": [
    "#Change of basis and rotation\n",
    "grid_offsetx = rot_mat @ np.array([GS[0]/(CNx - 1), 0, 0])\n",
    "grid_offsety = rot_mat @ np.array([0, GS[1]/(CNy - 1), 0])\n",
    "grid_offsetz = rot_mat @ np.array([0, 0, GS[2]/(7)])\n",
    "\n",
    "for x in range(int(CNx)):\n",
    "    for y in range(int(CNy)):\n",
    "        if x%2 is not 0:\n",
    "            offset = 0.5\n",
    "        else:\n",
    "            empty_flag = True\n",
    "            offset = 0\n",
    "        grid[x, y] = {\"pos\": grid[0, 0][\"pos\"] + (x)*grid_offsetx + (y + offset)*grid_offsety + (x+y)*grid_offsetz, \"empty\": empty_flag}\n",
    "\n",
    "grid[0,0][\"empty\"] = False\n",
    "grid[-1, -1][\"empty\"] = False"
   ]
  },
  {
   "cell_type": "code",
   "execution_count": 327,
   "metadata": {},
   "outputs": [],
   "source": [
    "if debug:\n",
    "    plt.figure()\n",
    "    for marker_key in markers.keys():\n",
    "        marker = markers[marker_key]\n",
    "        print(marker[\"pos\"])\n",
    "        plt.scatter(marker[\"pos\"][0], marker[\"pos\"][1])\n",
    "        plt.text(marker[\"pos\"][0], marker[\"pos\"][1], marker_key)\n",
    "        plt.legend([\"marker 0\", \"marker 1\"])\n",
    "    plt.scatter(grid_data[\"pos\"][0], grid_data[\"pos\"][1])\n",
    "    plt.legend([\"marker 0\", \"marker 1\", \"grid\"])\n",
    "    for i in range(grid.shape[0]):\n",
    "        for j in range(grid.shape[1]):\n",
    "            if grid[i, j][\"empty\"]:\n",
    "                plt.scatter(grid[i, j][\"pos\"][0], grid[i, j][\"pos\"][1], marker=\"x\", color=\"blue\")\n",
    "            else:\n",
    "                plt.scatter(grid[i, j][\"pos\"][0], grid[i, j][\"pos\"][1], marker=\"x\", color=\"black\")\n",
    "    plt.xlabel(\"x\")\n",
    "    plt.ylabel(\"y\")\n",
    "plt.show()"
   ]
  },
  {
   "cell_type": "code",
   "execution_count": 328,
   "metadata": {},
   "outputs": [],
   "source": [
    "\n"
   ]
  },
  {
   "cell_type": "code",
   "execution_count": 330,
   "metadata": {},
   "outputs": [],
   "source": [
    "if show:\n",
    "    camera_info = rospy.wait_for_message(\"/camera/color/camera_info\", CameraInfo, timeout=0.1)\n",
    "    intrinsic = np.array(camera_info.K).reshape((3, 3))\n",
    "    \n",
    "    grid_pxl = np.empty((grid.shape[0], grid.shape[1], 2))\n",
    "    for i in range(grid.shape[0]):\n",
    "        for j in range(grid.shape[1]):\n",
    "            xyw = intrinsic @ np.array(grid[i, j][\"pos\"])\n",
    "            grid_pxl[i, j] = xyw[:2]/xyw[2]\n",
    "            grid_pxl[i, j] = grid_pxl[i, j].astype(int)\n",
    "    # Plot grid on image\n",
    "    image_plt = image.copy()\n",
    "    for i in range(grid_pxl.shape[0]):\n",
    "        for j in range(grid_pxl.shape[1]):\n",
    "            if grid[i, j][\"empty\"]:\n",
    "                cv2.circle(image_plt, (int(grid_pxl[i, j][0]), int(grid_pxl[i, j][1])), 5, (0, 0, 255), -1)\n",
    "            else:\n",
    "                cv2.circle(image_plt, (int(grid_pxl[i, j][0]), int(grid_pxl[i, j][1])), 5, (0, 255, 0), -1)\n",
    "\n",
    "    marker26_pxl = intrinsic @ np.array(markers[\"marker26\"][\"pos\"])\n",
    "    marker26_pxl/=marker26_pxl[2]\n",
    "\n",
    "    marker29_pxl = intrinsic @ np.array(markers[\"marker29\"][\"pos\"])\n",
    "    marker29_pxl/=marker29_pxl[2]\n",
    "    cv2.circle(image_plt, (int(marker26_pxl[0]), int(marker26_pxl[1])), 6, (255, 0, 0), 2)\n",
    "\n",
    "    cv2.circle(image_plt, (int(marker29_pxl[0]), int(marker29_pxl[1])), 6, (255, 0, 0), 2)\n",
    "\n",
    "    cv2.imshow(\"image_plt\", image_plt)\n",
    "    cv2.waitKey(25)"
   ]
  },
  {
   "cell_type": "code",
   "execution_count": null,
   "metadata": {},
   "outputs": [],
   "source": []
  }
 ],
 "metadata": {
  "kernelspec": {
   "display_name": "Python 3",
   "language": "python",
   "name": "python3"
  },
  "language_info": {
   "codemirror_mode": {
    "name": "ipython",
    "version": 3
   },
   "file_extension": ".py",
   "mimetype": "text/x-python",
   "name": "python",
   "nbconvert_exporter": "python",
   "pygments_lexer": "ipython3",
   "version": "3.7.9"
  },
  "orig_nbformat": 4
 },
 "nbformat": 4,
 "nbformat_minor": 2
}
