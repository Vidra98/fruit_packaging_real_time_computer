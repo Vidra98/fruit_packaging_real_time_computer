{
 "cells": [
  {
   "cell_type": "code",
   "execution_count": 1,
   "metadata": {},
   "outputs": [],
   "source": [
    "import rospy\n",
    "from sensor_msgs import point_cloud2\n",
    "from std_msgs.msg import Header\n",
    "from geometry_msgs.msg import PoseArray, Pose\n",
    "from sensor_msgs.msg import Image, CameraInfo, PointCloud2\n",
    "from cv_bridge import CvBridge, CvBridgeError\n",
    "import cv2\n",
    "import time\n",
    "from utils.ROS_utils import gridRegistrator\n",
    "import message_filters"
   ]
  },
  {
   "cell_type": "code",
   "execution_count": 2,
   "metadata": {},
   "outputs": [],
   "source": [
    "rospy.init_node(\"python_node\",anonymous=True)\n",
    "\n",
    "image_sub = message_filters.Subscriber(\"/grid_generator/disposability_grid\", Image)\n",
    "pose_sub = message_filters.Subscriber(\"/grid_generator/Posearray_pub\", PoseArray)\n",
    "ts = message_filters.TimeSynchronizer([pose_sub, image_sub], 1)\n",
    "gridRegistrator = gridRegistrator()\n",
    "ts.registerCallback(gridRegistrator.callback)"
   ]
  },
  {
   "cell_type": "code",
   "execution_count": null,
   "metadata": {},
   "outputs": [],
   "source": [
    "# rospy.spin() "
   ]
  },
  {
   "cell_type": "code",
   "execution_count": 10,
   "metadata": {},
   "outputs": [],
   "source": [
    "poses = gridRegistrator.get_poses()"
   ]
  },
  {
   "cell_type": "code",
   "execution_count": null,
   "metadata": {},
   "outputs": [],
   "source": [
    "# def callback(data):\n",
    "#     print(data.header)\n",
    "#     print(len(data.poses))\n",
    "#     print(data.poses)\n",
    "\n",
    "# def img_listener(img_msg):\n",
    "#     print(img_msg.header)\n",
    "#     #convert img to cv2\n",
    "#     # bridge = CvBridge()\n",
    "#     # cv_image = bridge.imgmsg_to_cv2(img_msg, \"mono8\")\n",
    "#     # cv2.imshow(\"img\", cv_image)\n",
    "#     # cv2.waitKey(1)\n",
    "\n",
    "# sub = rospy.Subscriber(\"/grid_generator/Posearray_pub\", PoseArray, callback)\n",
    "# sub = rospy.Subscriber(\"/grid_generator/disposability_grid\", Image, img_listener)"
   ]
  }
 ],
 "metadata": {
  "kernelspec": {
   "display_name": "Python 3 (ipykernel)",
   "language": "python",
   "name": "python3"
  },
  "language_info": {
   "codemirror_mode": {
    "name": "ipython",
    "version": 3
   },
   "file_extension": ".py",
   "mimetype": "text/x-python",
   "name": "python",
   "nbconvert_exporter": "python",
   "pygments_lexer": "ipython3",
   "version": "3.7.9"
  },
  "orig_nbformat": 4
 },
 "nbformat": 4,
 "nbformat_minor": 2
}
