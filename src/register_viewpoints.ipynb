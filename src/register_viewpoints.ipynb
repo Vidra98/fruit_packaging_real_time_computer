{
 "cells": [
  {
   "cell_type": "code",
   "execution_count": 1,
   "metadata": {},
   "outputs": [
    {
     "name": "stdout",
     "output_type": "stream",
     "text": [
      "Jupyter environment detected. Enabling Open3D WebVisualizer.\n",
      "[Open3D INFO] WebRTC GUI backend enabled.\n",
      "[Open3D INFO] WebRTCWindowSystem: HTTP handshake server disabled.\n"
     ]
    },
    {
     "name": "stderr",
     "output_type": "stream",
     "text": [
      "INFO - 2023-06-26 17:17:58,044 - utils - NumExpr defaulting to 8 threads.\n",
      "INFO - 2023-06-26 17:17:58,425 - topics - topicmanager initialized\n"
     ]
    }
   ],
   "source": [
    "import json\n",
    "import numpy as np\n",
    "from utils.transform_utils import quat2mat, convert_quat\n",
    "import cv2\n",
    "from scipy.spatial.transform import Rotation\n",
    "\n",
    "import sys\n",
    "sys.path.append(\"/home/vdrame/catkin_ws/src/py_panda/PyPanda\")\n",
    "from PyPanda import Robot\n",
    "import rospy\n",
    "\n",
    "from utils.camera_utils import RealCamera, RealCameraROS"
   ]
  },
  {
   "attachments": {},
   "cell_type": "markdown",
   "metadata": {},
   "source": [
    "# viewpoint registering"
   ]
  },
  {
   "cell_type": "code",
   "execution_count": 3,
   "metadata": {},
   "outputs": [
    {
     "name": "stderr",
     "output_type": "stream",
     "text": [
      "[WARN] [1687792753.518808]: No controllers are running\n"
     ]
    },
    {
     "name": "stdout",
     "output_type": "stream",
     "text": [
      "rospy already initialized\n",
      "Camera topic found\n",
      "view0 saved\n",
      "view1 saved\n",
      "view2 saved\n",
      "view3 saved\n",
      "view4 saved\n",
      "{'view0': {'pos': [0.23985722240303245, 0.26052195515410653, 0.5701068144273241], 'orn_wxyz': [-0.005912699137142532, 0.9536396433375781, 0.3008391095076146, 0.005683382316541577]}, 'view1': {'pos': [0.07949707721277763, 0.22859862050453356, 0.45097533839767734], 'orn_wxyz': [-0.036899163509989986, 0.9394326958337057, 0.32285019038500107, 0.10896061811153543]}, 'view2': {'pos': [0.3915209392408166, 0.4862067957111822, 0.32073808016367844], 'orn_wxyz': [0.08162255205929227, 0.905821251370701, 0.3135523983046636, -0.27296613906845485]}, 'view3': {'pos': [0.052530708367927836, 0.6078261628010504, 0.3588777706481084], 'orn_wxyz': [0.1711059617949872, 0.9289587831960118, -0.239970386065929, 0.2239922828415443]}, 'view4': {'pos': [0.5704656790529168, 0.20563119513338096, 0.29730371651941423], 'orn_wxyz': [-0.32403252617643036, 0.5311144962276173, 0.7779446310577263, 0.0878775562078473]}}\n"
     ]
    }
   ],
   "source": [
    "rospy.init_node(\"pythonnode_register_views\",anonymous=True)\n",
    "rbt = Robot(\"panda\", use_gripper=True)\n",
    "\n",
    "camera_connexion = \"ROS\"\n",
    "if camera_connexion == \"ROS\":\n",
    "    camera = RealCameraROS()\n",
    "    intrinsic, distortion = camera.getIntrinsic()\n",
    "elif camera_connexion == \"pyWrapper\":\n",
    "    camera = RealCamera()\n",
    "    camera.start()\n",
    "    #retrieve image and depth\n",
    "    for i in range(15):\n",
    "        rgb, depth_image, depth_scale = camera.get_rgb_depth()\n",
    "\n",
    "    rgb, depth_image, depth_scale = camera.get_rgb_depth()\n",
    "    intrinsic, distortion = camera.getIntrinsic()\n",
    "else:\n",
    "    raise Exception(\"Please choose a valid camera connexion method: ROS or pyWrapper\")\n",
    "\n",
    "# views_pos = []\n",
    "# views_orn_wxyz = []\n",
    "views = {}\n",
    "view_idx = 0\n",
    "while True:\n",
    "    bgr, depth_image, depth_scale = camera.get_rgb_depth()\n",
    "    rgb = cv2.cvtColor(bgr, cv2.COLOR_BGR2RGB)\n",
    "    cv2.imshow(\"rgb\", rgb)\n",
    "    key = cv2.waitKey(1)\n",
    "    if key == ord('q'):\n",
    "        cv2.destroyAllWindows()\n",
    "        break\n",
    "    elif key == ord('s'):\n",
    "        view_pos = rbt.model.ee_pos_rel()\n",
    "        view_orn_wxyz = rbt.model.ee_orn_rel()\n",
    "        views[\"view\"+str(view_idx)] = {\"pos\": view_pos.tolist(), \"orn_wxyz\": view_orn_wxyz.tolist()}\n",
    "        print(\"view{} saved\".format(view_idx))\n",
    "        view_idx += 1\n",
    "\n",
    "\n",
    "print(views)\n",
    "\n",
    "#write pos in json file\n",
    "with open('config/views_pos.json', 'w') as outfile:\n",
    "    json.dump(views, outfile, indent=1)"
   ]
  },
  {
   "cell_type": "code",
   "execution_count": 4,
   "metadata": {},
   "outputs": [
    {
     "name": "stdout",
     "output_type": "stream",
     "text": [
      "view0\n",
      "[0.23985722240303245, 0.26052195515410653, 0.5701068144273241]\n",
      "[-0.005912699137142532, 0.9536396433375781, 0.3008391095076146, 0.005683382316541577]\n",
      "\n",
      "\n",
      "view1\n",
      "[0.07949707721277763, 0.22859862050453356, 0.45097533839767734]\n",
      "[-0.036899163509989986, 0.9394326958337057, 0.32285019038500107, 0.10896061811153543]\n",
      "\n",
      "\n",
      "view2\n",
      "[0.3915209392408166, 0.4862067957111822, 0.32073808016367844]\n",
      "[0.08162255205929227, 0.905821251370701, 0.3135523983046636, -0.27296613906845485]\n",
      "\n",
      "\n",
      "view3\n",
      "[0.052530708367927836, 0.6078261628010504, 0.3588777706481084]\n",
      "[0.1711059617949872, 0.9289587831960118, -0.239970386065929, 0.2239922828415443]\n",
      "\n",
      "\n",
      "view4\n",
      "[0.5704656790529168, 0.20563119513338096, 0.29730371651941423]\n",
      "[-0.32403252617643036, 0.5311144962276173, 0.7779446310577263, 0.0878775562078473]\n",
      "\n",
      "\n"
     ]
    }
   ],
   "source": [
    "#load pos and orn from json file\n",
    "with open('config/views_pos.json') as json_file:\n",
    "    views_pos_1 = json.load(json_file)\n",
    "\n",
    "keys = views_pos_1.keys()\n",
    "for key in keys:\n",
    "    print(key)\n",
    "    print(views_pos_1[key][\"pos\"])\n",
    "    print(views_pos_1[key][\"orn_wxyz\"])\n",
    "    print(\"\\n\")"
   ]
  },
  {
   "attachments": {},
   "cell_type": "markdown",
   "metadata": {},
   "source": [
    "# grid_search"
   ]
  },
  {
   "cell_type": "code",
   "execution_count": 4,
   "metadata": {},
   "outputs": [
    {
     "name": "stderr",
     "output_type": "stream",
     "text": [
      "[WARN] [1687261933.082417]: No controllers are running\n"
     ]
    },
    {
     "name": "stdout",
     "output_type": "stream",
     "text": [
      "rospy already initialized\n",
      "Camera topic found\n",
      "view0 saved\n",
      "view1 saved\n",
      "view2 saved\n",
      "view3 saved\n",
      "view4 saved\n",
      "{'view0': {'pos': [0.2014731861308635, 0.27728404957761793, 0.5691502058214037], 'orn_wxyz': [0.011270544156379758, 0.9453026937389689, 0.32584943030574887, -0.009896505124897762]}, 'view1': {'pos': [0.15176439988072532, 0.38683435889267503, 0.6216839474523348], 'orn_wxyz': [-0.11931739752775403, 0.9457810334614712, 0.29489491880963725, -0.06556357412475868]}, 'view2': {'pos': [0.0208210622695692, 0.5437262275203616, 0.588480050095034], 'orn_wxyz': [-0.003286465811994746, 0.9547804783455706, 0.2948399007736562, -0.03811653479069696]}, 'view3': {'pos': [0.3421814487635199, 0.16826035922133037, 0.5996855900321988], 'orn_wxyz': [0.24775681490706572, 0.8912595297570436, 0.3658964320580957, 0.10194514354060673]}, 'view4': {'pos': [0.29169241183965483, 0.33434424780146604, 0.6105792403316133], 'orn_wxyz': [-0.10046322474704415, 0.9220701341447687, 0.3293129674125185, 0.17676758098032194]}}\n"
     ]
    }
   ],
   "source": [
    "rospy.init_node(\"pythonnode_register_views\",anonymous=True)\n",
    "rbt = Robot(\"panda\", use_gripper=True)\n",
    "\n",
    "camera_connexion = \"ROS\"\n",
    "if camera_connexion == \"ROS\":\n",
    "    camera = RealCameraROS()\n",
    "    intrinsic, distortion = camera.getIntrinsic()\n",
    "elif camera_connexion == \"pyWrapper\":\n",
    "    camera = RealCamera()\n",
    "    camera.start()\n",
    "    #retrieve image and depth\n",
    "    for i in range(15):\n",
    "        rgb, depth_image, depth_scale = camera.get_rgb_depth()\n",
    "\n",
    "    rgb, depth_image, depth_scale = camera.get_rgb_depth()\n",
    "    intrinsic, distortion = camera.getIntrinsic()\n",
    "else:\n",
    "    raise Exception(\"Please choose a valid camera connexion method: ROS or pyWrapper\")\n",
    "\n",
    "# views_pos = []\n",
    "# views_orn_wxyz = []\n",
    "views = {}\n",
    "view_idx = 0\n",
    "while True:\n",
    "    rgb, depth_image, depth_scale = camera.get_rgb_depth()\n",
    "    cv2.imshow(\"rgb\", rgb)\n",
    "    key = cv2.waitKey(1)\n",
    "    if key == ord('q'):\n",
    "        cv2.destroyAllWindows()\n",
    "        break\n",
    "    elif key == ord('s'):\n",
    "        view_pos = rbt.model.ee_pos_rel()\n",
    "        view_orn_wxyz = rbt.model.ee_orn_rel()\n",
    "        views[\"view\"+str(view_idx)] = {\"pos\": view_pos.tolist(), \"orn_wxyz\": view_orn_wxyz.tolist()}\n",
    "        print(\"view{} saved\".format(view_idx))\n",
    "        view_idx += 1\n",
    "\n",
    "\n",
    "print(views)\n",
    "\n",
    "#write pos in json file\n",
    "with open('config/gridSearch_pos.json', 'w') as outfile:\n",
    "    json.dump(views, outfile, indent=1)"
   ]
  },
  {
   "cell_type": "code",
   "execution_count": 5,
   "metadata": {},
   "outputs": [
    {
     "name": "stdout",
     "output_type": "stream",
     "text": [
      "view0\n",
      "[0.2014731861308635, 0.27728404957761793, 0.5691502058214037]\n",
      "[0.011270544156379758, 0.9453026937389689, 0.32584943030574887, -0.009896505124897762]\n",
      "\n",
      "\n",
      "view1\n",
      "[0.15176439988072532, 0.38683435889267503, 0.6216839474523348]\n",
      "[-0.11931739752775403, 0.9457810334614712, 0.29489491880963725, -0.06556357412475868]\n",
      "\n",
      "\n",
      "view2\n",
      "[0.0208210622695692, 0.5437262275203616, 0.588480050095034]\n",
      "[-0.003286465811994746, 0.9547804783455706, 0.2948399007736562, -0.03811653479069696]\n",
      "\n",
      "\n",
      "view3\n",
      "[0.3421814487635199, 0.16826035922133037, 0.5996855900321988]\n",
      "[0.24775681490706572, 0.8912595297570436, 0.3658964320580957, 0.10194514354060673]\n",
      "\n",
      "\n",
      "view4\n",
      "[0.29169241183965483, 0.33434424780146604, 0.6105792403316133]\n",
      "[-0.10046322474704415, 0.9220701341447687, 0.3293129674125185, 0.17676758098032194]\n",
      "\n",
      "\n"
     ]
    }
   ],
   "source": [
    "#load pos and orn from json file\n",
    "with open('config/gridSearch_pos.json') as json_file:\n",
    "    grid_view = json.load(json_file)\n",
    "\n",
    "keys = grid_view.keys()\n",
    "for key in keys:\n",
    "    print(key)\n",
    "    print(grid_view[key][\"pos\"])\n",
    "    print(grid_view[key][\"orn_wxyz\"])\n",
    "    print(\"\\n\")"
   ]
  },
  {
   "attachments": {},
   "cell_type": "markdown",
   "metadata": {},
   "source": [
    "# Write camera extrinsic"
   ]
  },
  {
   "cell_type": "code",
   "execution_count": 10,
   "metadata": {},
   "outputs": [],
   "source": [
    "#D415\n",
    "D415_hand2camera_pos = np.array([0.0488546636437146,-0.03384417860749521,0.0512776975002817]) \n",
    "D415_hand2camera_quat = [0.012961267509189803,-0.0012768531849757236,0.7052247395136084,0.708864191484139] #xyzw \n",
    "D415_intrinsic = np.array([[925,    0.,           626],\n",
    "                           [0.,         926,      345],\n",
    "                           [0.,         0.,           1.]])\n",
    "#L515\n",
    "L515_hand2camera_pos = np.array([0.08329189218278059, 0.0014213145240625528, 0.0504764049956106]) \n",
    "L515_hand2camera_quat = [0.01521805627198811, 0.00623363612254646, 0.712108725756912, 0.7018765669580811] #xyzw \n",
    "L515_intrinsic = np.array([[915.73510742, 0.,           650.41772461],\n",
    "                           [0.,         916.14764404, 356.6946106],\n",
    "                           [0.,         0.,           1.]])\n",
    "\n",
    "camera_calibration = {}\n",
    "camera_calibration[\"D415\"] = {\"pos\": D415_hand2camera_pos.tolist(), \"quat_xyzw\": D415_hand2camera_quat, \"intrinsic\": D415_intrinsic.tolist()}\n",
    "camera_calibration[\"L515\"] = {\"pos\": L515_hand2camera_pos.tolist(), \"quat_xyzw\": L515_hand2camera_quat, \"intrinsic\": L515_intrinsic.tolist()}\n",
    "camera_calibration\n",
    "#write in a json file\n",
    "with open('config/camera_calibration.json', 'w') as outfile:\n",
    "    json.dump(camera_calibration, outfile, indent=1)"
   ]
  },
  {
   "cell_type": "code",
   "execution_count": 8,
   "metadata": {},
   "outputs": [
    {
     "name": "stdout",
     "output_type": "stream",
     "text": [
      "[0.0488546636437146, -0.03384417860749521, 0.0512776975002817]\n",
      "[0.012961267509189803, -0.0012768531849757236, 0.7052247395136084, 0.708864191484139]\n",
      "[[925.0, 0.0, 626.0], [0.0, 926.0, 345.0], [0.0, 0.0, 1.0]]\n"
     ]
    }
   ],
   "source": [
    "#read from camera calin from json file\n",
    "with open('config/camera_calibration.json') as json_file:\n",
    "    camera_calibration_read = json.load(json_file)\n",
    "\n",
    "print(camera_calibration_read[\"D415\"][\"pos\"])\n",
    "print(camera_calibration_read[\"D415\"][\"quat_xyzw\"])\n",
    "print(camera_calibration_read[\"D415\"][\"intrinsic\"])"
   ]
  },
  {
   "cell_type": "code",
   "execution_count": 9,
   "metadata": {},
   "outputs": [],
   "source": [
    "#write pos in json file\n",
    "with open('config/camera_calibration.json', 'w') as outfile:\n",
    "    json.dump(views, outfile, indent=1)"
   ]
  },
  {
   "cell_type": "code",
   "execution_count": null,
   "metadata": {},
   "outputs": [],
   "source": [
    "# view_init_pos = [0.17908377, 0.23450877, 0.44783125]\n",
    "# view_init_orn_wxyz = [0.0030477, 0.92571715, 0.37800879, 0.01215875]\n",
    "# view_front_pos = [0.36072976, 0.41291873, 0.30648647]\n",
    "# view_front_orn_wxyz = [ 0.1655683,   0.81494402,  0.28065989, -0.47925298]\n",
    "# view_right_pos = [0.10118165, 0.47394513, 0.30265239]\n",
    "# view_right_orn_wxyz = [ 0.3190109,   0.94507174, -0.07051679,  0.00994117]\n",
    "# view_back_pos = [0.00465632, 0.32838561, 0.26232907]\n",
    "# view_back_orn_wxyz = [ 0.06700862,  0.96685827, -0.02494526,  0.24509727]\n",
    "\n",
    "# views_pos = [view_front_pos, view_right_pos, view_back_pos]\n",
    "# views_orn_wxyz = [view_front_orn_wxyz, view_right_orn_wxyz, view_back_orn_wxyz]\n",
    "\n",
    "# views = {}\n",
    "# for i in range(len(views_pos)):\n",
    "#     views[\"view\"+str(i)] = {\"pos\": views_pos[i], \"orn_wxyz\": views_orn_wxyz[i]}\n",
    "# print(views)"
   ]
  }
 ],
 "metadata": {
  "kernelspec": {
   "display_name": "base",
   "language": "python",
   "name": "python3"
  },
  "language_info": {
   "codemirror_mode": {
    "name": "ipython",
    "version": 3
   },
   "file_extension": ".py",
   "mimetype": "text/x-python",
   "name": "python",
   "nbconvert_exporter": "python",
   "pygments_lexer": "ipython3",
   "version": "3.8.10"
  },
  "orig_nbformat": 4
 },
 "nbformat": 4,
 "nbformat_minor": 2
}
