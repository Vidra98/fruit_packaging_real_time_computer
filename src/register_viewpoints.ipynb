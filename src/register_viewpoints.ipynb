{
 "cells": [
  {
   "cell_type": "code",
   "execution_count": 1,
   "metadata": {},
   "outputs": [
    {
     "name": "stdout",
     "output_type": "stream",
     "text": [
      "Jupyter environment detected. Enabling Open3D WebVisualizer.\n",
      "[Open3D INFO] WebRTC GUI backend enabled.\n",
      "[Open3D INFO] WebRTCWindowSystem: HTTP handshake server disabled.\n"
     ]
    },
    {
     "name": "stderr",
     "output_type": "stream",
     "text": [
      "INFO - 2023-06-12 10:47:39,297 - utils - NumExpr defaulting to 8 threads.\n",
      "INFO - 2023-06-12 10:47:39,609 - topics - topicmanager initialized\n"
     ]
    }
   ],
   "source": [
    "import json\n",
    "import numpy as np\n",
    "from utils.transform_utils import quat2mat, convert_quat\n",
    "import cv2\n",
    "from scipy.spatial.transform import Rotation\n",
    "\n",
    "import sys\n",
    "sys.path.append(\"/home/vdrame/catkin_ws/src/py_panda/PyPanda\")\n",
    "from PyPanda import Robot\n",
    "import rospy\n",
    "\n",
    "from utils.camera_utils import RealCamera, RealCameraROS"
   ]
  },
  {
   "cell_type": "code",
   "execution_count": 2,
   "metadata": {},
   "outputs": [
    {
     "name": "stdout",
     "output_type": "stream",
     "text": [
      "rospy already initialized\n",
      "Camera topic found\n",
      "view0 saved\n",
      "view1 saved\n",
      "view2 saved\n",
      "view3 saved\n",
      "{'view0': {'pos': [0.21397589035625414, 0.28047306993730725, 0.42783154168633486], 'orn_wxyz': [0.006736109629362743, 0.9439858757807746, 0.3299027392193803, -0.0030779553302002637]}, 'view1': {'pos': [0.3908105488465784, 0.4393504334418797, 0.2908213239297328], 'orn_wxyz': [0.12104356456183588, 0.8631351197306448, 0.33633371738077533, -0.35668732962996996]}, 'view2': {'pos': [0.06397319855129875, 0.45727418778546425, 0.278151226998427], 'orn_wxyz': [0.4495147808381681, 0.8186736757873952, 0.32410605484049554, 0.15054945897112423]}, 'view3': {'pos': [-0.027363930494041774, 0.29670036217070295, 0.19428929666726558], 'orn_wxyz': [0.047742044151854034, 0.8989516569363635, 0.16989967642863782, 0.40092482544862834]}}\n"
     ]
    }
   ],
   "source": [
    "rospy.init_node(\"pythonnode_register_views\",anonymous=True)\n",
    "rbt = Robot(\"panda\", use_gripper=True)\n",
    "\n",
    "camera_connexion = \"ROS\"\n",
    "if camera_connexion == \"ROS\":\n",
    "    camera = RealCameraROS()\n",
    "    intrinsic, distortion = camera.getIntrinsic()\n",
    "elif camera_connexion == \"pyWrapper\":\n",
    "    camera = RealCamera()\n",
    "    camera.start()\n",
    "    #retrieve image and depth\n",
    "    for i in range(15):\n",
    "        rgb, depth_image, depth_scale = camera.get_rgb_depth()\n",
    "\n",
    "    rgb, depth_image, depth_scale = camera.get_rgb_depth()\n",
    "    intrinsic, distortion = camera.getIntrinsic()\n",
    "else:\n",
    "    raise Exception(\"Please choose a valid camera connexion method: ROS or pyWrapper\")\n",
    "\n",
    "# views_pos = []\n",
    "# views_orn_wxyz = []\n",
    "views = {}\n",
    "view_idx = 0\n",
    "while True:\n",
    "    rgb, depth_image, depth_scale = camera.get_rgb_depth()\n",
    "    cv2.imshow(\"rgb\", rgb)\n",
    "    key = cv2.waitKey(1)\n",
    "    if key == ord('q'):\n",
    "        cv2.destroyAllWindows()\n",
    "        break\n",
    "    elif key == ord('s'):\n",
    "        view_pos = rbt.model.ee_pos_rel()\n",
    "        view_orn_wxyz = rbt.model.ee_orn_rel()\n",
    "        views[\"view\"+str(view_idx)] = {\"pos\": view_pos.tolist(), \"orn_wxyz\": view_orn_wxyz.tolist()}\n",
    "        print(\"view{} saved\".format(view_idx))\n",
    "        view_idx += 1\n",
    "\n",
    "\n",
    "print(views)\n",
    "\n",
    "#write pos in json file\n",
    "with open('config/views_pos.json', 'w') as outfile:\n",
    "    json.dump(views, outfile)"
   ]
  },
  {
   "cell_type": "code",
   "execution_count": 3,
   "metadata": {},
   "outputs": [
    {
     "name": "stdout",
     "output_type": "stream",
     "text": [
      "view0\n",
      "[0.21397589035625414, 0.28047306993730725, 0.42783154168633486]\n",
      "[0.006736109629362743, 0.9439858757807746, 0.3299027392193803, -0.0030779553302002637]\n",
      "\n",
      "\n",
      "view1\n",
      "[0.3908105488465784, 0.4393504334418797, 0.2908213239297328]\n",
      "[0.12104356456183588, 0.8631351197306448, 0.33633371738077533, -0.35668732962996996]\n",
      "\n",
      "\n",
      "view2\n",
      "[0.06397319855129875, 0.45727418778546425, 0.278151226998427]\n",
      "[0.4495147808381681, 0.8186736757873952, 0.32410605484049554, 0.15054945897112423]\n",
      "\n",
      "\n",
      "view3\n",
      "[-0.027363930494041774, 0.29670036217070295, 0.19428929666726558]\n",
      "[0.047742044151854034, 0.8989516569363635, 0.16989967642863782, 0.40092482544862834]\n",
      "\n",
      "\n"
     ]
    }
   ],
   "source": [
    "#load pos and orn from json file\n",
    "with open('config/views_pos.json') as json_file:\n",
    "    views_pos_1 = json.load(json_file)\n",
    "\n",
    "keys = views_pos_1.keys()\n",
    "for key in keys:\n",
    "    print(key)\n",
    "    print(views_pos_1[key][\"pos\"])\n",
    "    print(views_pos_1[key][\"orn_wxyz\"])\n",
    "    print(\"\\n\")"
   ]
  },
  {
   "attachments": {},
   "cell_type": "markdown",
   "metadata": {},
   "source": [
    "# Write camera extrinsic"
   ]
  },
  {
   "cell_type": "code",
   "execution_count": 1,
   "metadata": {},
   "outputs": [
    {
     "ename": "NameError",
     "evalue": "name 'np' is not defined",
     "output_type": "error",
     "traceback": [
      "\u001b[0;31m---------------------------------------------------------------------------\u001b[0m",
      "\u001b[0;31mNameError\u001b[0m                                 Traceback (most recent call last)",
      "\u001b[0;32m<ipython-input-1-a40c6e8c175e>\u001b[0m in \u001b[0;36m<module>\u001b[0;34m\u001b[0m\n\u001b[1;32m      1\u001b[0m \u001b[0;31m#D415\u001b[0m\u001b[0;34m\u001b[0m\u001b[0;34m\u001b[0m\u001b[0;34m\u001b[0m\u001b[0m\n\u001b[0;32m----> 2\u001b[0;31m \u001b[0mD415_hand2camera_pos\u001b[0m \u001b[0;34m=\u001b[0m \u001b[0mnp\u001b[0m\u001b[0;34m.\u001b[0m\u001b[0marray\u001b[0m\u001b[0;34m(\u001b[0m\u001b[0;34m[\u001b[0m\u001b[0;36m0.0488546636437146\u001b[0m\u001b[0;34m,\u001b[0m\u001b[0;34m-\u001b[0m\u001b[0;36m0.03384417860749521\u001b[0m\u001b[0;34m,\u001b[0m\u001b[0;36m0.0512776975002817\u001b[0m\u001b[0;34m]\u001b[0m\u001b[0;34m)\u001b[0m\u001b[0;34m\u001b[0m\u001b[0;34m\u001b[0m\u001b[0m\n\u001b[0m\u001b[1;32m      3\u001b[0m \u001b[0mD415_hand2camera_quat\u001b[0m \u001b[0;34m=\u001b[0m \u001b[0;34m[\u001b[0m\u001b[0;36m0.012961267509189803\u001b[0m\u001b[0;34m,\u001b[0m\u001b[0;34m-\u001b[0m\u001b[0;36m0.0012768531849757236\u001b[0m\u001b[0;34m,\u001b[0m\u001b[0;36m0.7052247395136084\u001b[0m\u001b[0;34m,\u001b[0m\u001b[0;36m0.708864191484139\u001b[0m\u001b[0;34m]\u001b[0m \u001b[0;31m#xyzw\u001b[0m\u001b[0;34m\u001b[0m\u001b[0;34m\u001b[0m\u001b[0m\n\u001b[1;32m      4\u001b[0m D415_intrinsic = np.array([[925,    0.,           626],\n\u001b[1;32m      5\u001b[0m                            \u001b[0;34m[\u001b[0m\u001b[0;36m0.\u001b[0m\u001b[0;34m,\u001b[0m         \u001b[0;36m926\u001b[0m\u001b[0;34m,\u001b[0m      \u001b[0;36m345\u001b[0m\u001b[0;34m]\u001b[0m\u001b[0;34m,\u001b[0m\u001b[0;34m\u001b[0m\u001b[0;34m\u001b[0m\u001b[0m\n",
      "\u001b[0;31mNameError\u001b[0m: name 'np' is not defined"
     ]
    }
   ],
   "source": [
    "#D415\n",
    "D415_hand2camera_pos = np.array([0.0488546636437146,-0.03384417860749521,0.0512776975002817]) \n",
    "D415_hand2camera_quat = [0.012961267509189803,-0.0012768531849757236,0.7052247395136084,0.708864191484139] #xyzw \n",
    "D415_intrinsic = np.array([[925,    0.,           626],\n",
    "                           [0.,         926,      345],\n",
    "                           [0.,         0.,           1.]])\n",
    "#L515\n",
    "L515_hand2camera_pos = np.array([0.08329189218278059, 0.0014213145240625528, 0.0504764049956106]) \n",
    "L515_hand2camera_quat = [0.01521805627198811, 0.00623363612254646, 0.712108725756912, 0.7018765669580811] #xyzw \n",
    "L515_intrinsic = np.array([[915.73510742, 0.,           650.41772461],\n",
    "                           [0.,         916.14764404, 356.6946106],\n",
    "                           [0.,         0.,           1.]])\n",
    "\n",
    "camera_calibration = {}\n",
    "camera_calibration[\"D415\"] = {\"pos\": D415_hand2camera_pos.tolist(), \"quat_xyzw\": D415_hand2camera_quat, \"intrinsic\": D415_intrinsic.tolist()}\n",
    "camera_calibration[\"L515\"] = {\"pos\": L515_hand2camera_pos.tolist(), \"quat_xyzw\": L515_hand2camera_quat, \"intrinsic\": L515_intrinsic.tolist()}\n",
    "camera_calibration\n",
    "#write in a json file\n",
    "with open('config/camera_calibration.json', 'w') as outfile:\n",
    "    json.dump(camera_calibration, outfile)"
   ]
  },
  {
   "cell_type": "code",
   "execution_count": 14,
   "metadata": {},
   "outputs": [
    {
     "name": "stdout",
     "output_type": "stream",
     "text": [
      "[0.0488546636437146, -0.03384417860749521, 0.0512776975002817]\n",
      "[0.012961267509189803, -0.0012768531849757236, 0.7052247395136084, 0.708864191484139]\n",
      "[[925.0, 0.0, 626.0], [0.0, 926.0, 345.0], [0.0, 0.0, 1.0]]\n"
     ]
    }
   ],
   "source": [
    "#read from camera calin from json file\n",
    "with open('config/camera_calibration.json') as json_file:\n",
    "    camera_calibration_read = json.load(json_file)\n",
    "\n",
    "print(camera_calibration_read[\"D415\"][\"pos\"])\n",
    "print(camera_calibration_read[\"D415\"][\"quat_xyzw\"])\n",
    "print(camera_calibration_read[\"D415\"][\"intrinsic\"])"
   ]
  },
  {
   "cell_type": "code",
   "execution_count": null,
   "metadata": {},
   "outputs": [],
   "source": [
    "# view_init_pos = [0.17908377, 0.23450877, 0.44783125]\n",
    "# view_init_orn_wxyz = [0.0030477, 0.92571715, 0.37800879, 0.01215875]\n",
    "# view_front_pos = [0.36072976, 0.41291873, 0.30648647]\n",
    "# view_front_orn_wxyz = [ 0.1655683,   0.81494402,  0.28065989, -0.47925298]\n",
    "# view_right_pos = [0.10118165, 0.47394513, 0.30265239]\n",
    "# view_right_orn_wxyz = [ 0.3190109,   0.94507174, -0.07051679,  0.00994117]\n",
    "# view_back_pos = [0.00465632, 0.32838561, 0.26232907]\n",
    "# view_back_orn_wxyz = [ 0.06700862,  0.96685827, -0.02494526,  0.24509727]\n",
    "\n",
    "# views_pos = [view_front_pos, view_right_pos, view_back_pos]\n",
    "# views_orn_wxyz = [view_front_orn_wxyz, view_right_orn_wxyz, view_back_orn_wxyz]\n",
    "\n",
    "# views = {}\n",
    "# for i in range(len(views_pos)):\n",
    "#     views[\"view\"+str(i)] = {\"pos\": views_pos[i], \"orn_wxyz\": views_orn_wxyz[i]}\n",
    "# print(views)"
   ]
  }
 ],
 "metadata": {
  "kernelspec": {
   "display_name": "base",
   "language": "python",
   "name": "python3"
  },
  "language_info": {
   "codemirror_mode": {
    "name": "ipython",
    "version": 3
   },
   "file_extension": ".py",
   "mimetype": "text/x-python",
   "name": "python",
   "nbconvert_exporter": "python",
   "pygments_lexer": "ipython3",
   "version": "3.8.10"
  },
  "orig_nbformat": 4
 },
 "nbformat": 4,
 "nbformat_minor": 2
}
