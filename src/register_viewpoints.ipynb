{
 "cells": [
  {
   "cell_type": "code",
   "execution_count": 1,
   "metadata": {},
   "outputs": [
    {
     "name": "stdout",
     "output_type": "stream",
     "text": [
      "Jupyter environment detected. Enabling Open3D WebVisualizer.\n",
      "[Open3D INFO] WebRTC GUI backend enabled.\n",
      "[Open3D INFO] WebRTCWindowSystem: HTTP handshake server disabled.\n"
     ]
    },
    {
     "name": "stderr",
     "output_type": "stream",
     "text": [
      "INFO - 2023-06-05 11:42:20,875 - utils - NumExpr defaulting to 8 threads.\n",
      "INFO - 2023-06-05 11:42:21,297 - topics - topicmanager initialized\n"
     ]
    }
   ],
   "source": [
    "import json\n",
    "import numpy as np\n",
    "from utils.transform_utils import quat2mat, convert_quat\n",
    "import cv2\n",
    "from scipy.spatial.transform import Rotation\n",
    "\n",
    "import sys\n",
    "sys.path.append(\"/home/vdrame/catkin_ws/src/py_panda/PyPanda\")\n",
    "from PyPanda import Robot\n",
    "import rospy\n",
    "\n",
    "from utils.camera_utils import RealCamera, RealCameraROS"
   ]
  },
  {
   "cell_type": "code",
   "execution_count": 8,
   "metadata": {},
   "outputs": [
    {
     "name": "stderr",
     "output_type": "stream",
     "text": [
      "[WARN] [1685958465.445598]: No controllers are running\n"
     ]
    },
    {
     "name": "stdout",
     "output_type": "stream",
     "text": [
      "rospy already initialized\n",
      "Camera topic found\n",
      "view{} saved 1\n",
      "view{} saved 2\n",
      "view{} saved 3\n",
      "view{} saved 4\n"
     ]
    }
   ],
   "source": [
    "rospy.init_node(\"pythonnode_register_views\",anonymous=True)\n",
    "rbt = Robot(\"panda\", use_gripper=True)\n",
    "\n",
    "camera_connexion = \"ROS\"\n",
    "if camera_connexion == \"ROS\":\n",
    "    camera = RealCameraROS()\n",
    "    intrinsic, distortion = camera.getIntrinsic()\n",
    "elif camera_connexion == \"pyWrapper\":\n",
    "    camera = RealCamera()\n",
    "    camera.start()\n",
    "    #retrieve image and depth\n",
    "    for i in range(15):\n",
    "        rgb, depth_image, depth_scale = camera.get_rgb_depth()\n",
    "\n",
    "    rgb, depth_image, depth_scale = camera.get_rgb_depth()\n",
    "    intrinsic, distortion = camera.getIntrinsic()\n",
    "else:\n",
    "    raise Exception(\"Please choose a valid camera connexion method: ROS or pyWrapper\")\n",
    "\n",
    "# views_pos = []\n",
    "# views_orn_wxyz = []\n",
    "views = {}\n",
    "view_idx = 0\n",
    "while True:\n",
    "    rgb, depth_image, depth_scale = camera.get_rgb_depth()\n",
    "    cv2.imshow(\"rgb\", rgb)\n",
    "    key = cv2.waitKey(1)\n",
    "    if key == ord('q'):\n",
    "        cv2.destroyAllWindows()\n",
    "        break\n",
    "    elif key == ord('s'):\n",
    "        view_pos = rbt.model.ee_pos_rel()\n",
    "        view_orn_wxyz = rbt.model.ee_orn_rel()\n",
    "        views[\"view\"+str(view_idx)] = {\"pos\": view_pos.tolist(), \"orn_wxyz\": view_orn_wxyz.tolist()}\n",
    "        print(\"view{} saved\".format(view_idx))\n",
    "        view_idx += 1\n",
    "\n",
    "\n",
    "print(views)\n",
    "\n",
    "#write pos in json file\n",
    "with open('config/views_pos.json', 'w') as outfile:\n",
    "    json.dump(views, outfile)"
   ]
  },
  {
   "cell_type": "code",
   "execution_count": 12,
   "metadata": {},
   "outputs": [
    {
     "name": "stdout",
     "output_type": "stream",
     "text": [
      "view0\n",
      "[0.2492136032361736, 0.4181585920105021, 0.4235462030946719]\n",
      "[0.052064506714461674, 0.9482676851770783, 0.30356934803929103, -0.07696320757664027]\n",
      "\n",
      "\n",
      "view1\n",
      "[0.3595449113161429, 0.49432791643394464, 0.30941179658697904]\n",
      "[0.08808345044990519, 0.9097556179544753, 0.25280305279305715, -0.3172958207345639]\n",
      "\n",
      "\n",
      "view2\n",
      "[0.4171735255888925, 0.23552267195828877, 0.2638098951973996]\n",
      "[-0.21227513947555554, 0.42260322564559066, 0.878901816586912, 0.06226857662418065]\n",
      "\n",
      "\n",
      "view3\n",
      "[-0.014040914215565484, 0.3941554014550373, 0.25268933279047295]\n",
      "[-0.007295049790544527, 0.9414091459383976, 0.056630593372169864, 0.3323982221468793]\n",
      "\n",
      "\n"
     ]
    }
   ],
   "source": [
    "#load pos and orn from json file\n",
    "with open('config/views_pos.json') as json_file:\n",
    "    views_pos_1 = json.load(json_file)\n",
    "\n",
    "keys = views_pos_1.keys()\n",
    "for key in keys:\n",
    "    print(key)\n",
    "    print(views_pos_1[key][\"pos\"])\n",
    "    print(views_pos_1[key][\"orn_wxyz\"])\n",
    "    print(\"\\n\")"
   ]
  },
  {
   "attachments": {},
   "cell_type": "markdown",
   "metadata": {},
   "source": [
    "# Write camera extrinsic"
   ]
  },
  {
   "cell_type": "code",
   "execution_count": 13,
   "metadata": {},
   "outputs": [],
   "source": [
    "#D415\n",
    "D415_hand2camera_pos = np.array([0.0488546636437146,-0.03384417860749521,0.0512776975002817]) \n",
    "D415_hand2camera_quat = [0.012961267509189803,-0.0012768531849757236,0.7052247395136084,0.708864191484139] #xyzw \n",
    "D415_intrinsic = np.array([[925,    0.,           626],\n",
    "                           [0.,         926,      345],\n",
    "                           [0.,         0.,           1.]])\n",
    "#L515\n",
    "L515_hand2camera_pos = np.array([0.08329189218278059, 0.0014213145240625528, 0.0504764049956106]) \n",
    "L515_hand2camera_quat = [0.01521805627198811, 0.00623363612254646, 0.712108725756912, 0.7018765669580811] #xyzw \n",
    "L515_intrinsic = np.array([[915.73510742, 0.,           650.41772461],\n",
    "                           [0.,         916.14764404, 356.6946106],\n",
    "                           [0.,         0.,           1.]])\n",
    "\n",
    "camera_calibration = {}\n",
    "camera_calibration[\"D415\"] = {\"pos\": D415_hand2camera_pos.tolist(), \"quat_xyzw\": D415_hand2camera_quat, \"intrinsic\": D415_intrinsic.tolist()}\n",
    "camera_calibration[\"L515\"] = {\"pos\": L515_hand2camera_pos.tolist(), \"quat_xyzw\": L515_hand2camera_quat, \"intrinsic\": L515_intrinsic.tolist()}\n",
    "camera_calibration\n",
    "#write in a json file\n",
    "with open('config/camera_calibration.json', 'w') as outfile:\n",
    "    json.dump(camera_calibration, outfile)"
   ]
  },
  {
   "cell_type": "code",
   "execution_count": 14,
   "metadata": {},
   "outputs": [
    {
     "name": "stdout",
     "output_type": "stream",
     "text": [
      "[0.0488546636437146, -0.03384417860749521, 0.0512776975002817]\n",
      "[0.012961267509189803, -0.0012768531849757236, 0.7052247395136084, 0.708864191484139]\n",
      "[[925.0, 0.0, 626.0], [0.0, 926.0, 345.0], [0.0, 0.0, 1.0]]\n"
     ]
    }
   ],
   "source": [
    "#read from camera calin from json file\n",
    "with open('config/camera_calibration.json') as json_file:\n",
    "    camera_calibration_read = json.load(json_file)\n",
    "\n",
    "print(camera_calibration_read[\"D415\"][\"pos\"])\n",
    "print(camera_calibration_read[\"D415\"][\"quat_xyzw\"])\n",
    "print(camera_calibration_read[\"D415\"][\"intrinsic\"])"
   ]
  },
  {
   "cell_type": "code",
   "execution_count": null,
   "metadata": {},
   "outputs": [],
   "source": [
    "# view_init_pos = [0.17908377, 0.23450877, 0.44783125]\n",
    "# view_init_orn_wxyz = [0.0030477, 0.92571715, 0.37800879, 0.01215875]\n",
    "# view_front_pos = [0.36072976, 0.41291873, 0.30648647]\n",
    "# view_front_orn_wxyz = [ 0.1655683,   0.81494402,  0.28065989, -0.47925298]\n",
    "# view_right_pos = [0.10118165, 0.47394513, 0.30265239]\n",
    "# view_right_orn_wxyz = [ 0.3190109,   0.94507174, -0.07051679,  0.00994117]\n",
    "# view_back_pos = [0.00465632, 0.32838561, 0.26232907]\n",
    "# view_back_orn_wxyz = [ 0.06700862,  0.96685827, -0.02494526,  0.24509727]\n",
    "\n",
    "# views_pos = [view_front_pos, view_right_pos, view_back_pos]\n",
    "# views_orn_wxyz = [view_front_orn_wxyz, view_right_orn_wxyz, view_back_orn_wxyz]\n",
    "\n",
    "# views = {}\n",
    "# for i in range(len(views_pos)):\n",
    "#     views[\"view\"+str(i)] = {\"pos\": views_pos[i], \"orn_wxyz\": views_orn_wxyz[i]}\n",
    "# print(views)"
   ]
  }
 ],
 "metadata": {
  "kernelspec": {
   "display_name": "base",
   "language": "python",
   "name": "python3"
  },
  "language_info": {
   "codemirror_mode": {
    "name": "ipython",
    "version": 3
   },
   "file_extension": ".py",
   "mimetype": "text/x-python",
   "name": "python",
   "nbconvert_exporter": "python",
   "pygments_lexer": "ipython3",
   "version": "3.8.10"
  },
  "orig_nbformat": 4
 },
 "nbformat": 4,
 "nbformat_minor": 2
}
