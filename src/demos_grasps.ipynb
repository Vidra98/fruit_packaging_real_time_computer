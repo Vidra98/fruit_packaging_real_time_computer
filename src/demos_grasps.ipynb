{
 "cells": [
  {
   "cell_type": "code",
   "execution_count": 2,
   "metadata": {},
   "outputs": [
    {
     "name": "stdout",
     "output_type": "stream",
     "text": [
      "Jupyter environment detected. Enabling Open3D WebVisualizer.\n",
      "[Open3D INFO] WebRTC GUI backend enabled.\n",
      "[Open3D INFO] WebRTCWindowSystem: HTTP handshake server disabled.\n"
     ]
    },
    {
     "name": "stderr",
     "output_type": "stream",
     "text": [
      "INFO - 2023-07-04 23:00:07,925 - utils - NumExpr defaulting to 8 threads.\n"
     ]
    }
   ],
   "source": [
    "# from utils.segmentation import YOLOSegmentation\n",
    "import cv2\n",
    "import numpy as np\n",
    "import rospy\n",
    "from cv_bridge import CvBridge, CvBridgeError\n",
    "from contact_grasp.srv import segmentationSrv, segmentationSrvResponse\n",
    "from utils.camera_utils import RealCamera, RealCameraROS\n",
    "# from utils.visualisation_utils import depth2pc\n",
    "from utils.transform_utils import regularize_pc, depth2pc\n",
    "from utils.ROS_utils import generate_grasps_client, format_pointcloud_msg, run_action\n",
    "import open3d as o3d\n",
    "import time"
   ]
  },
  {
   "cell_type": "code",
   "execution_count": 3,
   "metadata": {},
   "outputs": [],
   "source": [
    "def display_inlier_outliers(cloud, ind):\n",
    "    print(\"1\")\n",
    "    inlier_cloud = cloud.select_by_index(ind)\n",
    "    print(\"2\")\n",
    "    outlier_cloud = cloud.select_by_index(ind, invert=True)\n",
    "\n",
    "    print(\"Showing outliers (red) and inliers (gray): \")\n",
    "    outlier_cloud.paint_uniform_color([1, 0, 0])\n",
    "    # inlier_cloud.paint_uniform_color([0.8, 0.8, 0.8])\n",
    "    o3d.visualization.draw_geometries([inlier_cloud, outlier_cloud])"
   ]
  },
  {
   "cell_type": "code",
   "execution_count": 4,
   "metadata": {},
   "outputs": [
    {
     "name": "stdout",
     "output_type": "stream",
     "text": [
      "Camera topic found\n"
     ]
    }
   ],
   "source": [
    "camera_connexion = \"ROS\"\n",
    "if camera_connexion == \"ROS\":\n",
    "    camera = RealCameraROS()\n",
    "    intrinsic, distortion = camera.getIntrinsic()\n",
    "elif camera_connexion == \"pyWrapper\":\n",
    "    camera = RealCamera()\n",
    "    camera.start()\n",
    "    #retrieve image and depth\n",
    "    for i in range(15):\n",
    "        rgb, depth_image, depth_scale = camera.get_rgb_depth()\n",
    "\n",
    "    rgb, depth_image, depth_scale = camera.get_rgb_depth()\n",
    "    intrinsic, distortion = camera.getIntrinsic()\n",
    "else:\n",
    "    raise Exception(\"Please choose a valid camera connexion method: ROS or pyWrapper\")\n"
   ]
  },
  {
   "cell_type": "code",
   "execution_count": 5,
   "metadata": {},
   "outputs": [],
   "source": [
    "rgb, depth_image, depth_scale = camera.get_rgb_depth()\n",
    "depth = depth_image * depth_scale\n",
    "\n",
    "bridge = CvBridge()\n",
    "\n",
    "pc_fused, pc_colors_fused = depth2pc(depth, intrinsic, rgb)"
   ]
  },
  {
   "cell_type": "code",
   "execution_count": 6,
   "metadata": {},
   "outputs": [],
   "source": [
    "bgr = cv2.cvtColor(rgb, cv2.COLOR_RGB2BGR)\n",
    "cv2.imshow(\"bgr\", bgr)\n",
    "cv2.imshow(\"depth\", depth)\n",
    "cv2.waitKey(0)\n",
    "cv2.destroyAllWindows()"
   ]
  },
  {
   "cell_type": "code",
   "execution_count": 7,
   "metadata": {},
   "outputs": [],
   "source": [
    "# cv2.imshow(\"rgb\", rgb)\n",
    "# cv2.imshow(\"depth\", depth)\n",
    "# cv2.waitKey(0)\n",
    "# cv2.destroyAllWindows()"
   ]
  },
  {
   "cell_type": "code",
   "execution_count": 8,
   "metadata": {},
   "outputs": [
    {
     "name": "stdout",
     "output_type": "stream",
     "text": [
      "Downsampling time: 1.4406025409698486s, Filtering time: 2.384185791015625e-07s\n"
     ]
    }
   ],
   "source": [
    "pc_fused, pc_colors_fused = regularize_pc(pc_fused, pc_colors_fused, downsampling_method=\"voxel\", voxel_size=0.005, outlier_filtering_method=None, radius_param_arg=[25, 0.015])\n",
    "# pc_fused_, pc_colors_fused_ = regularize_pc(pc_fused, pc_colors_fused, downsampling_method=\"voxel\", voxel_size=0.005, outlier_filtering_method=\"statistical\", statistical_param_arg=[20, 2.0])"
   ]
  },
  {
   "cell_type": "code",
   "execution_count": 9,
   "metadata": {},
   "outputs": [
    {
     "name": "stdout",
     "output_type": "stream",
     "text": [
      "Downsampling time: 0.04045414924621582s, Filtering time: 7.152557373046875e-07s\n"
     ]
    }
   ],
   "source": [
    "pc_fused, pc_colors_fused = regularize_pc(pc_fused, pc_colors_fused, \n",
    "                                                  downsampling_method=\"voxel\", voxel_size=0.005,\n",
    "                                                  outlier_filtering_method=None)"
   ]
  },
  {
   "cell_type": "code",
   "execution_count": 25,
   "metadata": {},
   "outputs": [],
   "source": [
    "import open3d as o3d\n",
    "pc_o3d = o3d.geometry.PointCloud()\n",
    "pc_o3d.points = o3d.utility.Vector3dVector(pc_fused)\n",
    "pc_o3d.colors = o3d.utility.Vector3dVector(pc_colors_fused/255)\n",
    "coordinate = o3d.geometry.TriangleMesh.create_coordinate_frame(size=0.1)\n",
    "coordinate.translate([0,0 , 0.])\n",
    "o3d.visualization.draw_geometries([coordinate, pc_o3d])"
   ]
  },
  {
   "cell_type": "code",
   "execution_count": null,
   "metadata": {},
   "outputs": [],
   "source": []
  },
  {
   "cell_type": "code",
   "execution_count": 24,
   "metadata": {},
   "outputs": [],
   "source": [
    "# Radius outlier removal:\n",
    "cl_rad, ind_rad = pc_o3d.remove_radius_outlier(nb_points=25, radius=0.015)\n",
    "outlier_rad_cl = pc_o3d.select_by_index(ind_rad, invert=True)\n",
    "outlier_rad_cl.paint_uniform_color([1., 0., 1.0])\n",
    "\n",
    "# Statistical outlier removal:\n",
    "cl_stat, ind_stat = pc_o3d.remove_statistical_outlier(nb_neighbors=5,\n",
    "                                                std_ratio=1.0)\n",
    "outlier_stat_cl = pc_o3d.select_by_index(ind_stat, invert=True)\n",
    "outlier_stat_cl.paint_uniform_color([0., 0., 1.])\n",
    "\n",
    "# Translate to visualize:\n",
    "points = np.asarray(cl_stat.points)\n",
    "points += [1.5, 0., 0]\n",
    "cl_stat.points = o3d.utility.Vector3dVector(points)\n",
    "\n",
    "points = np.asarray(outlier_stat_cl.points)\n",
    "points += [1.5, 0., 0]\n",
    "outlier_stat_cl.points = o3d.utility.Vector3dVector(points)\n",
    "\n",
    "# Display:\n",
    "o3d.visualization.draw_geometries([cl_stat, cl_rad, outlier_stat_cl, outlier_rad_cl])"
   ]
  },
  {
   "cell_type": "code",
   "execution_count": 11,
   "metadata": {},
   "outputs": [],
   "source": [
    "pc2_msg = format_pointcloud_msg(pc_fused, pc_colors_fused)\n",
    "bgr = cv2.cvtColor(rgb, cv2.COLOR_RGB2BGR)\n",
    "bgr_msg = bridge.cv2_to_imgmsg(rgb, encoding=\"rgb8\")"
   ]
  },
  {
   "cell_type": "code",
   "execution_count": 28,
   "metadata": {},
   "outputs": [
    {
     "name": "stdout",
     "output_type": "stream",
     "text": [
      "calling service\n"
     ]
    }
   ],
   "source": [
    "orn, pos, opening, score, detected, detected_with_collision = generate_grasps_client(pc2_msg, bgr_msg)\n",
    "\n"
   ]
  },
  {
   "cell_type": "code",
   "execution_count": null,
   "metadata": {},
   "outputs": [],
   "source": []
  },
  {
   "attachments": {},
   "cell_type": "markdown",
   "metadata": {},
   "source": []
  },
  {
   "cell_type": "code",
   "execution_count": null,
   "metadata": {},
   "outputs": [],
   "source": []
  }
 ],
 "metadata": {
  "kernelspec": {
   "display_name": "base",
   "language": "python",
   "name": "python3"
  },
  "language_info": {
   "codemirror_mode": {
    "name": "ipython",
    "version": 3
   },
   "file_extension": ".py",
   "mimetype": "text/x-python",
   "name": "python",
   "nbconvert_exporter": "python",
   "pygments_lexer": "ipython3",
   "version": "3.8.10"
  },
  "orig_nbformat": 4
 },
 "nbformat": 4,
 "nbformat_minor": 2
}
