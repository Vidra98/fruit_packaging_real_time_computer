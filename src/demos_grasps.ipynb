{
 "cells": [
  {
   "cell_type": "code",
   "execution_count": 1,
   "metadata": {},
   "outputs": [
    {
     "name": "stdout",
     "output_type": "stream",
     "text": [
      "Jupyter environment detected. Enabling Open3D WebVisualizer.\n",
      "[Open3D INFO] WebRTC GUI backend enabled.\n",
      "[Open3D INFO] WebRTCWindowSystem: HTTP handshake server disabled.\n"
     ]
    }
   ],
   "source": [
    "# from utils.segmentation import YOLOSegmentation\n",
    "import cv2\n",
    "import numpy as np\n",
    "import rospy\n",
    "from cv_bridge import CvBridge, CvBridgeError\n",
    "from contact_grasp.srv import segmentationSrv, segmentationSrvResponse\n",
    "from utils.camera_utils import RealCamera, RealCameraROS\n",
    "from utils.visualisation_utils import depth2pc\n",
    "from utils.transform_utils import regularize_pc\n",
    "from utils.ROS_utils import generate_grasps_client, format_pointcloud_msg, run_action\n",
    "import open3d as o3d\n",
    "import time"
   ]
  },
  {
   "cell_type": "code",
   "execution_count": 2,
   "metadata": {},
   "outputs": [],
   "source": [
    "def display_inlier_outliers(cloud, ind):\n",
    "    print(\"1\")\n",
    "    inlier_cloud = cloud.select_by_index(ind)\n",
    "    print(\"2\")\n",
    "    outlier_cloud = cloud.select_by_index(ind, invert=True)\n",
    "\n",
    "    print(\"Showing outliers (red) and inliers (gray): \")\n",
    "    outlier_cloud.paint_uniform_color([1, 0, 0])\n",
    "    # inlier_cloud.paint_uniform_color([0.8, 0.8, 0.8])\n",
    "    o3d.visualization.draw_geometries([inlier_cloud, outlier_cloud])"
   ]
  },
  {
   "cell_type": "code",
   "execution_count": 3,
   "metadata": {},
   "outputs": [
    {
     "name": "stdout",
     "output_type": "stream",
     "text": [
      "Camera topic found\n"
     ]
    }
   ],
   "source": [
    "camera_connexion = \"ROS\"\n",
    "if camera_connexion == \"ROS\":\n",
    "    camera = RealCameraROS()\n",
    "    intrinsic, distortion = camera.getIntrinsic()\n",
    "elif camera_connexion == \"pyWrapper\":\n",
    "    camera = RealCamera()\n",
    "    camera.start()\n",
    "    #retrieve image and depth\n",
    "    for i in range(15):\n",
    "        rgb, depth_image, depth_scale = camera.get_rgb_depth()\n",
    "\n",
    "    rgb, depth_image, depth_scale = camera.get_rgb_depth()\n",
    "    intrinsic, distortion = camera.getIntrinsic()\n",
    "else:\n",
    "    raise Exception(\"Please choose a valid camera connexion method: ROS or pyWrapper\")\n"
   ]
  },
  {
   "cell_type": "code",
   "execution_count": 25,
   "metadata": {},
   "outputs": [],
   "source": [
    "rgb, depth_image, depth_scale = camera.get_rgb_depth()\n",
    "depth = depth_image * depth_scale\n",
    "\n",
    "bridge = CvBridge()\n",
    "\n",
    "pc_fused, pc_colors_fused = depth2pc(depth, intrinsic, rgb)"
   ]
  },
  {
   "cell_type": "code",
   "execution_count": 5,
   "metadata": {},
   "outputs": [],
   "source": [
    "bgr = cv2.cvtColor(rgb, cv2.COLOR_RGB2BGR)\n",
    "cv2.imshow(\"bgr\", bgr)\n",
    "cv2.imshow(\"depth\", depth)\n",
    "cv2.waitKey(1)\n",
    "cv2.destroyAllWindows()"
   ]
  },
  {
   "cell_type": "code",
   "execution_count": 6,
   "metadata": {},
   "outputs": [],
   "source": [
    "# cv2.imshow(\"rgb\", rgb)\n",
    "# cv2.imshow(\"depth\", depth)\n",
    "# cv2.waitKey(0)\n",
    "# cv2.destroyAllWindows()"
   ]
  },
  {
   "cell_type": "code",
   "execution_count": 26,
   "metadata": {},
   "outputs": [
    {
     "name": "stdout",
     "output_type": "stream",
     "text": [
      "Downsampling time: 0.49677419662475586s, Filtering time: 7.152557373046875e-07s\n"
     ]
    }
   ],
   "source": [
    "pc_fused, pc_colors_fused = regularize_pc(pc_fused, pc_colors_fused, downsampling_method=\"voxel\", voxel_size=0.005, outlier_filtering_method=None, radius_param_arg=[25, 0.015])\n",
    "# pc_fused_, pc_colors_fused_ = regularize_pc(pc_fused, pc_colors_fused, downsampling_method=\"voxel\", voxel_size=0.005, outlier_filtering_method=\"statistical\", statistical_param_arg=[20, 2.0])"
   ]
  },
  {
   "cell_type": "code",
   "execution_count": 22,
   "metadata": {},
   "outputs": [],
   "source": [
    "import open3d as o3d\n",
    "pc_o3d = o3d.geometry.PointCloud()\n",
    "pc_o3d.points = o3d.utility.Vector3dVector(pc_fused)\n",
    "pc_o3d.colors = o3d.utility.Vector3dVector(pc_colors_fused/255)\n",
    "coordinate = o3d.geometry.TriangleMesh.create_coordinate_frame(size=0.1)\n",
    "coordinate.translate([0,0 , 0.4])\n",
    "o3d.visualization.draw_geometries([coordinate, pc_o3d])"
   ]
  },
  {
   "cell_type": "code",
   "execution_count": 34,
   "metadata": {},
   "outputs": [],
   "source": [
    "# Radius outlier removal:\n",
    "cl_rad, ind_rad = pc_o3d.remove_radius_outlier(nb_points=25, radius=0.015)\n",
    "outlier_rad_cl = pc_o3d.select_by_index(ind_rad, invert=True)\n",
    "outlier_rad_cl.paint_uniform_color([1., 0., 1.])\n",
    "\n",
    "# Statistical outlier removal:\n",
    "cl_stat, ind_stat = pc_o3d.remove_statistical_outlier(nb_neighbors=10,\n",
    "                                                std_ratio=1.0)\n",
    "outlier_stat_cl = pc_o3d.select_by_index(ind_stat, invert=True)\n",
    "outlier_stat_cl.paint_uniform_color([0., 0., 1.])\n",
    "\n",
    "# Translate to visualize:\n",
    "points = np.asarray(cl_stat.points)\n",
    "points += [0.0, 0.5, 0]\n",
    "cl_stat.points = o3d.utility.Vector3dVector(points)\n",
    "\n",
    "points = np.asarray(outlier_stat_cl.points)\n",
    "points += [0.0, 0.5, 0]\n",
    "outlier_stat_cl.points = o3d.utility.Vector3dVector(points)\n",
    "\n",
    "# Display:\n",
    "o3d.visualization.draw_geometries([cl_stat, cl_rad, outlier_stat_cl, outlier_rad_cl])"
   ]
  },
  {
   "cell_type": "code",
   "execution_count": 35,
   "metadata": {},
   "outputs": [],
   "source": [
    "pc2_msg = format_pointcloud_msg(pc_fused, pc_colors_fused)\n",
    "bgr = cv2.cvtColor(rgb, cv2.COLOR_RGB2BGR)\n",
    "bgr_msg = bridge.cv2_to_imgmsg(rgb, encoding=\"rgb8\")"
   ]
  },
  {
   "cell_type": "code",
   "execution_count": 36,
   "metadata": {},
   "outputs": [
    {
     "name": "stdout",
     "output_type": "stream",
     "text": [
      "calling service\n"
     ]
    },
    {
     "ename": "KeyboardInterrupt",
     "evalue": "",
     "output_type": "error",
     "traceback": [
      "\u001b[0;31m---------------------------------------------------------------------------\u001b[0m",
      "\u001b[0;31mKeyboardInterrupt\u001b[0m                         Traceback (most recent call last)",
      "\u001b[0;32m<ipython-input-36-3592f2e30be9>\u001b[0m in \u001b[0;36m<module>\u001b[0;34m\u001b[0m\n\u001b[0;32m----> 1\u001b[0;31m \u001b[0morn\u001b[0m\u001b[0;34m,\u001b[0m \u001b[0mpos\u001b[0m\u001b[0;34m,\u001b[0m \u001b[0mopening\u001b[0m\u001b[0;34m,\u001b[0m \u001b[0mscore\u001b[0m\u001b[0;34m,\u001b[0m \u001b[0mdetected\u001b[0m\u001b[0;34m,\u001b[0m \u001b[0mdetected_with_collision\u001b[0m \u001b[0;34m=\u001b[0m \u001b[0mgenerate_grasps_client\u001b[0m\u001b[0;34m(\u001b[0m\u001b[0mpc2_msg\u001b[0m\u001b[0;34m,\u001b[0m \u001b[0mbgr_msg\u001b[0m\u001b[0;34m)\u001b[0m\u001b[0;34m\u001b[0m\u001b[0;34m\u001b[0m\u001b[0m\n\u001b[0m\u001b[1;32m      2\u001b[0m \u001b[0;34m\u001b[0m\u001b[0m\n",
      "\u001b[0;32m~/Documents/ros_ws/src/fruit_packaging_real_time_computer/src/utils/ROS_utils.py\u001b[0m in \u001b[0;36mgenerate_grasps_client\u001b[0;34m(pc2, bgr8)\u001b[0m\n\u001b[1;32m     16\u001b[0m         \u001b[0mprint\u001b[0m\u001b[0;34m(\u001b[0m\u001b[0;34m\"calling service\"\u001b[0m\u001b[0;34m)\u001b[0m\u001b[0;34m\u001b[0m\u001b[0;34m\u001b[0m\u001b[0m\n\u001b[1;32m     17\u001b[0m         \u001b[0mgenerate_grasps\u001b[0m \u001b[0;34m=\u001b[0m \u001b[0mrospy\u001b[0m\u001b[0;34m.\u001b[0m\u001b[0mServiceProxy\u001b[0m\u001b[0;34m(\u001b[0m\u001b[0;34m'generate_grasps_pc'\u001b[0m\u001b[0;34m,\u001b[0m \u001b[0mcontactGraspnetPointcloud2\u001b[0m\u001b[0;34m)\u001b[0m\u001b[0;34m\u001b[0m\u001b[0;34m\u001b[0m\u001b[0m\n\u001b[0;32m---> 18\u001b[0;31m         \u001b[0mresp1\u001b[0m \u001b[0;34m=\u001b[0m \u001b[0mgenerate_grasps\u001b[0m\u001b[0;34m(\u001b[0m\u001b[0mpc2\u001b[0m\u001b[0;34m,\u001b[0m \u001b[0mbgr8\u001b[0m\u001b[0;34m)\u001b[0m\u001b[0;34m\u001b[0m\u001b[0;34m\u001b[0m\u001b[0m\n\u001b[0m\u001b[1;32m     19\u001b[0m         \u001b[0;32mreturn\u001b[0m \u001b[0mresp1\u001b[0m\u001b[0;34m.\u001b[0m\u001b[0mquat\u001b[0m\u001b[0;34m,\u001b[0m \u001b[0mresp1\u001b[0m\u001b[0;34m.\u001b[0m\u001b[0mpos\u001b[0m\u001b[0;34m,\u001b[0m \u001b[0mresp1\u001b[0m\u001b[0;34m.\u001b[0m\u001b[0mopening\u001b[0m\u001b[0;34m.\u001b[0m\u001b[0mdata\u001b[0m\u001b[0;34m,\u001b[0m \u001b[0mresp1\u001b[0m\u001b[0;34m.\u001b[0m\u001b[0mscore\u001b[0m\u001b[0;34m.\u001b[0m\u001b[0mdata\u001b[0m\u001b[0;34m,\u001b[0m \u001b[0mresp1\u001b[0m\u001b[0;34m.\u001b[0m\u001b[0mdetected\u001b[0m\u001b[0;34m.\u001b[0m\u001b[0mdata\u001b[0m\u001b[0;34m,\u001b[0m \u001b[0mresp1\u001b[0m\u001b[0;34m.\u001b[0m\u001b[0mdetected_with_collision\u001b[0m\u001b[0;34m.\u001b[0m\u001b[0mdata\u001b[0m\u001b[0;34m\u001b[0m\u001b[0;34m\u001b[0m\u001b[0m\n\u001b[1;32m     20\u001b[0m     \u001b[0;32mexcept\u001b[0m \u001b[0mrospy\u001b[0m\u001b[0;34m.\u001b[0m\u001b[0mServiceException\u001b[0m \u001b[0;32mas\u001b[0m \u001b[0me\u001b[0m\u001b[0;34m:\u001b[0m\u001b[0;34m\u001b[0m\u001b[0;34m\u001b[0m\u001b[0m\n",
      "\u001b[0;32m/opt/ros/noetic/lib/python3/dist-packages/rospy/impl/tcpros_service.py\u001b[0m in \u001b[0;36m__call__\u001b[0;34m(self, *args, **kwds)\u001b[0m\n\u001b[1;32m    440\u001b[0m         \u001b[0mmessage\u001b[0m\u001b[0;34m.\u001b[0m \u001b[0mThis\u001b[0m \u001b[0;32mis\u001b[0m \u001b[0musually\u001b[0m \u001b[0ma\u001b[0m \u001b[0mtype\u001b[0m \u001b[0merror\u001b[0m \u001b[0;32mwith\u001b[0m \u001b[0mone\u001b[0m \u001b[0mof\u001b[0m \u001b[0mthe\u001b[0m \u001b[0mfields\u001b[0m\u001b[0;34m.\u001b[0m\u001b[0;34m\u001b[0m\u001b[0;34m\u001b[0m\u001b[0m\n\u001b[1;32m    441\u001b[0m         \"\"\"\n\u001b[0;32m--> 442\u001b[0;31m         \u001b[0;32mreturn\u001b[0m \u001b[0mself\u001b[0m\u001b[0;34m.\u001b[0m\u001b[0mcall\u001b[0m\u001b[0;34m(\u001b[0m\u001b[0;34m*\u001b[0m\u001b[0margs\u001b[0m\u001b[0;34m,\u001b[0m \u001b[0;34m**\u001b[0m\u001b[0mkwds\u001b[0m\u001b[0;34m)\u001b[0m\u001b[0;34m\u001b[0m\u001b[0;34m\u001b[0m\u001b[0m\n\u001b[0m\u001b[1;32m    443\u001b[0m \u001b[0;34m\u001b[0m\u001b[0m\n\u001b[1;32m    444\u001b[0m     \u001b[0;32mdef\u001b[0m \u001b[0m_get_service_uri\u001b[0m\u001b[0;34m(\u001b[0m\u001b[0mself\u001b[0m\u001b[0;34m,\u001b[0m \u001b[0mrequest\u001b[0m\u001b[0;34m)\u001b[0m\u001b[0;34m:\u001b[0m\u001b[0;34m\u001b[0m\u001b[0;34m\u001b[0m\u001b[0m\n",
      "\u001b[0;32m/opt/ros/noetic/lib/python3/dist-packages/rospy/impl/tcpros_service.py\u001b[0m in \u001b[0;36mcall\u001b[0;34m(self, *args, **kwds)\u001b[0m\n\u001b[1;32m    521\u001b[0m \u001b[0;34m\u001b[0m\u001b[0m\n\u001b[1;32m    522\u001b[0m         \u001b[0;32mtry\u001b[0m\u001b[0;34m:\u001b[0m\u001b[0;34m\u001b[0m\u001b[0;34m\u001b[0m\u001b[0m\n\u001b[0;32m--> 523\u001b[0;31m             \u001b[0mresponses\u001b[0m \u001b[0;34m=\u001b[0m \u001b[0mtransport\u001b[0m\u001b[0;34m.\u001b[0m\u001b[0mreceive_once\u001b[0m\u001b[0;34m(\u001b[0m\u001b[0;34m)\u001b[0m\u001b[0;34m\u001b[0m\u001b[0;34m\u001b[0m\u001b[0m\n\u001b[0m\u001b[1;32m    524\u001b[0m             \u001b[0;32mif\u001b[0m \u001b[0mlen\u001b[0m\u001b[0;34m(\u001b[0m\u001b[0mresponses\u001b[0m\u001b[0;34m)\u001b[0m \u001b[0;34m==\u001b[0m \u001b[0;36m0\u001b[0m\u001b[0;34m:\u001b[0m\u001b[0;34m\u001b[0m\u001b[0;34m\u001b[0m\u001b[0m\n\u001b[1;32m    525\u001b[0m                 \u001b[0;32mraise\u001b[0m \u001b[0mServiceException\u001b[0m\u001b[0;34m(\u001b[0m\u001b[0;34m\"service [%s] returned no response\"\u001b[0m\u001b[0;34m%\u001b[0m\u001b[0mself\u001b[0m\u001b[0;34m.\u001b[0m\u001b[0mresolved_name\u001b[0m\u001b[0;34m)\u001b[0m\u001b[0;34m\u001b[0m\u001b[0;34m\u001b[0m\u001b[0m\n",
      "\u001b[0;32m/opt/ros/noetic/lib/python3/dist-packages/rospy/impl/tcpros_base.py\u001b[0m in \u001b[0;36mreceive_once\u001b[0;34m(self)\u001b[0m\n\u001b[1;32m    742\u001b[0m                     \u001b[0mp\u001b[0m\u001b[0;34m.\u001b[0m\u001b[0mread_messages\u001b[0m\u001b[0;34m(\u001b[0m\u001b[0mb\u001b[0m\u001b[0;34m,\u001b[0m \u001b[0mmsg_queue\u001b[0m\u001b[0;34m,\u001b[0m \u001b[0msock\u001b[0m\u001b[0;34m)\u001b[0m\u001b[0;34m\u001b[0m\u001b[0;34m\u001b[0m\u001b[0m\n\u001b[1;32m    743\u001b[0m                 \u001b[0;32mif\u001b[0m \u001b[0;32mnot\u001b[0m \u001b[0mmsg_queue\u001b[0m\u001b[0;34m:\u001b[0m\u001b[0;34m\u001b[0m\u001b[0;34m\u001b[0m\u001b[0m\n\u001b[0;32m--> 744\u001b[0;31m                     \u001b[0mself\u001b[0m\u001b[0;34m.\u001b[0m\u001b[0mstat_bytes\u001b[0m \u001b[0;34m+=\u001b[0m \u001b[0mrecv_buff\u001b[0m\u001b[0;34m(\u001b[0m\u001b[0msock\u001b[0m\u001b[0;34m,\u001b[0m \u001b[0mb\u001b[0m\u001b[0;34m,\u001b[0m \u001b[0mp\u001b[0m\u001b[0;34m.\u001b[0m\u001b[0mbuff_size\u001b[0m\u001b[0;34m)\u001b[0m\u001b[0;34m\u001b[0m\u001b[0;34m\u001b[0m\u001b[0m\n\u001b[0m\u001b[1;32m    745\u001b[0m             \u001b[0mself\u001b[0m\u001b[0;34m.\u001b[0m\u001b[0mstat_num_msg\u001b[0m \u001b[0;34m+=\u001b[0m \u001b[0mlen\u001b[0m\u001b[0;34m(\u001b[0m\u001b[0mmsg_queue\u001b[0m\u001b[0;34m)\u001b[0m \u001b[0;31m#STATS\u001b[0m\u001b[0;34m\u001b[0m\u001b[0;34m\u001b[0m\u001b[0m\n\u001b[1;32m    746\u001b[0m             \u001b[0;31m# set the _connection_header field\u001b[0m\u001b[0;34m\u001b[0m\u001b[0;34m\u001b[0m\u001b[0;34m\u001b[0m\u001b[0m\n",
      "\u001b[0;32m/opt/ros/noetic/lib/python3/dist-packages/rospy/impl/tcpros_base.py\u001b[0m in \u001b[0;36mrecv_buff\u001b[0;34m(sock, b, buff_size)\u001b[0m\n\u001b[1;32m    104\u001b[0m     \"\"\"\n\u001b[1;32m    105\u001b[0m     \u001b[0;32mtry\u001b[0m\u001b[0;34m:\u001b[0m\u001b[0;34m\u001b[0m\u001b[0;34m\u001b[0m\u001b[0m\n\u001b[0;32m--> 106\u001b[0;31m         \u001b[0md\u001b[0m \u001b[0;34m=\u001b[0m \u001b[0msock\u001b[0m\u001b[0;34m.\u001b[0m\u001b[0mrecv\u001b[0m\u001b[0;34m(\u001b[0m\u001b[0mbuff_size\u001b[0m\u001b[0;34m)\u001b[0m\u001b[0;34m\u001b[0m\u001b[0;34m\u001b[0m\u001b[0m\n\u001b[0m\u001b[1;32m    107\u001b[0m         \u001b[0;32mif\u001b[0m \u001b[0md\u001b[0m\u001b[0;34m:\u001b[0m\u001b[0;34m\u001b[0m\u001b[0;34m\u001b[0m\u001b[0m\n\u001b[1;32m    108\u001b[0m             \u001b[0mb\u001b[0m\u001b[0;34m.\u001b[0m\u001b[0mwrite\u001b[0m\u001b[0;34m(\u001b[0m\u001b[0md\u001b[0m\u001b[0;34m)\u001b[0m\u001b[0;34m\u001b[0m\u001b[0;34m\u001b[0m\u001b[0m\n",
      "\u001b[0;31mKeyboardInterrupt\u001b[0m: "
     ]
    }
   ],
   "source": [
    "orn, pos, opening, score, detected, detected_with_collision = generate_grasps_client(pc2_msg, bgr_msg)\n",
    "\n"
   ]
  },
  {
   "cell_type": "code",
   "execution_count": null,
   "metadata": {},
   "outputs": [],
   "source": []
  },
  {
   "cell_type": "code",
   "execution_count": null,
   "metadata": {},
   "outputs": [],
   "source": []
  }
 ],
 "metadata": {
  "kernelspec": {
   "display_name": "base",
   "language": "python",
   "name": "python3"
  },
  "language_info": {
   "codemirror_mode": {
    "name": "ipython",
    "version": 3
   },
   "file_extension": ".py",
   "mimetype": "text/x-python",
   "name": "python",
   "nbconvert_exporter": "python",
   "pygments_lexer": "ipython3",
   "version": "3.7.9"
  },
  "orig_nbformat": 4
 },
 "nbformat": 4,
 "nbformat_minor": 2
}
