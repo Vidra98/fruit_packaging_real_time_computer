{
 "cells": [
  {
   "attachments": {},
   "cell_type": "markdown",
   "metadata": {},
   "source": [
    "# Initialisation"
   ]
  },
  {
   "cell_type": "code",
   "execution_count": 1,
   "metadata": {},
   "outputs": [
    {
     "name": "stdout",
     "output_type": "stream",
     "text": [
      "Jupyter environment detected. Enabling Open3D WebVisualizer.\n",
      "[Open3D INFO] WebRTC GUI backend enabled.\n",
      "[Open3D INFO] WebRTCWindowSystem: HTTP handshake server disabled.\n"
     ]
    },
    {
     "name": "stderr",
     "output_type": "stream",
     "text": [
      "INFO - 2023-06-20 16:37:17,451 - utils - NumExpr defaulting to 8 threads.\n",
      "INFO - 2023-06-20 16:37:18,926 - base_toolkit - Could not load plugin 'qt' from 'pyface.ui.qt.init'\n",
      "INFO - 2023-06-20 16:37:18,930 - base_toolkit - No pyface.toolkits plugin could be loaded for qt\n",
      "INFO - 2023-06-20 16:37:18,932 - base_toolkit - Could not load traitsui.toolkits plugin 'qt' from 'traitsui.qt4'\n",
      "INFO - 2023-06-20 16:37:18,933 - base_toolkit - Could not load traitsui.toolkits plugin 'wx' from 'traitsui.wx'\n",
      "INFO - 2023-06-20 16:37:19,052 - base_toolkit - Could not load plugin 'qt4' from 'pyface.ui.qt.init'\n",
      "INFO - 2023-06-20 16:37:19,054 - base_toolkit - No pyface.toolkits plugin could be loaded for qt4\n",
      "INFO - 2023-06-20 16:37:19,055 - base_toolkit - Could not load traitsui.toolkits plugin 'qt4' from 'traitsui.qt4'\n"
     ]
    }
   ],
   "source": [
    "from PyLQR.sim import KDLRobot\n",
    "from PyLQR.system import PosOrnPlannerSys, PosOrnKeypoint\n",
    "from PyLQR.solver import BatchILQRCP, BatchILQR, ILQRRecursive\n",
    "from PyLQR.utils import primitives, PythonCallbackMessage\n",
    "\n",
    "import numpy as np\n",
    "import matplotlib.pyplot as plt\n",
    "import cv2\n",
    "from tqdm import tqdm\n",
    "\n",
    "import logging\n",
    "import sys\n",
    "\n",
    "from scipy.spatial.transform import Rotation \n",
    "\n",
    "from cv_bridge import CvBridge, CvBridgeError\n",
    "\n",
    "sys.path.append(\"/home/vdrame/catkin_ws/src/py_panda/PyPanda\")\n",
    "from PyPanda import Robot\n",
    "from PyPanda import Utils\n",
    "\n",
    "from utils.camera_utils import RealCamera, RealCameraROS\n",
    "from utils.transform_utils import *\n",
    "from utils.iLQR_wrapper import iLQR\n",
    "from utils.visualisation_utils import depth2pc\n",
    "from utils.ROS_utils import generate_grasps_client, format_pointcloud_msg, run_action, get_camera_pose, gridRegistrator\n",
    "\n",
    "import argparse\n",
    "from scipy.spatial.transform import Rotation\n",
    "\n",
    "import time\n",
    "\n",
    "from contact_grasp.srv import contactGraspnetPointcloud2, contactGraspnetPointcloud2Response\n",
    "\n",
    "import json\n",
    "import rospy\n",
    "from cv_bridge import CvBridge, CvBridgeError\n",
    "from sensor_msgs import point_cloud2\n",
    "from sensor_msgs.msg import PointField, CameraInfo, Image, PointCloud2\n",
    "from std_msgs.msg import Header\n",
    "from geometry_msgs.msg import PoseArray, Pose\n",
    "import message_filters\n",
    "\n",
    "import open3d as o3d"
   ]
  },
  {
   "attachments": {},
   "cell_type": "markdown",
   "metadata": {},
   "source": [
    "# Function"
   ]
  },
  {
   "cell_type": "code",
   "execution_count": 2,
   "metadata": {},
   "outputs": [],
   "source": [
    "def restart_controller(rbt, homing=False):\n",
    "    eef_pos, eef_quat = [], []\n",
    "    rbt.stop_controller()\n",
    "    rbt.error_recovery()\n",
    "    rbt.switch_controller(\"joint_velocity_controller\")\n",
    "    if homing:\n",
    "        rbt.gripper.homing()"
   ]
  },
  {
   "attachments": {},
   "cell_type": "markdown",
   "metadata": {},
   "source": [
    "# Init communication"
   ]
  },
  {
   "cell_type": "code",
   "execution_count": 3,
   "metadata": {},
   "outputs": [
    {
     "name": "stderr",
     "output_type": "stream",
     "text": [
      "[WARN] [1687271860.916363]: No controllers are running\n"
     ]
    },
    {
     "name": "stdout",
     "output_type": "stream",
     "text": [
      "difference between iLQR model ee and real robot ee\n",
      "quat (zyzw) :[-1.9936895e-06 -2.0699601e-06  7.7544706e-07  1.0000000e+00]\n",
      "pos:[-5.23728624e-07  2.55186431e-07 -1.18779570e-06]\n",
      "Camera topic found\n"
     ]
    }
   ],
   "source": [
    "bridge = CvBridge()\n",
    "try:\n",
    "    rospy.init_node(\"python_node\",anonymous=True)\n",
    "except:\n",
    "    print(\"rospy already initialized\")\n",
    "\n",
    "# dispose_pos = np.array([0.1, 0.66, 0.1])\n",
    "# dispose_orn_wxyz = np.array([0, 1, 0.35, 0])\n",
    "\n",
    "# Load robot\n",
    "rbt = Robot(\"panda\", use_gripper=True)\n",
    "traj_gen = iLQR(rbt)\n",
    "\n",
    "image_sub = message_filters.Subscriber(\"/grid_generator/disposability_grid\", Image)\n",
    "pose_sub = message_filters.Subscriber(\"/grid_generator/Posearray_pub\", PoseArray)\n",
    "ts = message_filters.TimeSynchronizer([pose_sub, image_sub], 1)\n",
    "gridRegistrator = gridRegistrator(rbt)\n",
    "ts.registerCallback(gridRegistrator.callback)\n",
    "\n",
    "camera_connexion = \"ROS\"\n",
    "if camera_connexion == \"ROS\":\n",
    "    camera = RealCameraROS()\n",
    "    intrinsic, distortion = camera.getIntrinsic()\n",
    "elif camera_connexion == \"pyWrapper\":\n",
    "    camera = RealCamera()\n",
    "    camera.start()\n",
    "    #retrieve image and depth to initialise camera, otherwise image is very dark\n",
    "    for i in range(15):\n",
    "        rgb, depth_image, depth_scale = camera.get_rgb_depth()\n",
    "else:\n",
    "    raise Exception(\"Please choose a valid camera connexion method: ROS or pyWrapper\")"
   ]
  },
  {
   "cell_type": "code",
   "execution_count": 4,
   "metadata": {},
   "outputs": [
    {
     "name": "stderr",
     "output_type": "stream",
     "text": [
      "[WARN] [1687271888.353037]: No controllers are running\n"
     ]
    },
    {
     "name": "stdout",
     "output_type": "stream",
     "text": [
      "No grid received yet\n",
      "No grid received yet\n",
      "No grid received yet\n",
      "No grid received yet\n",
      "No grid received yet\n",
      "No grid received yet\n",
      "No free cell\n"
     ]
    },
    {
     "name": "stderr",
     "output_type": "stream",
     "text": [
      "[WARN] [1687271907.275137]: No controllers are running\n"
     ]
    },
    {
     "name": "stdout",
     "output_type": "stream",
     "text": [
      "No grid received yet\n"
     ]
    },
    {
     "ename": "KeyboardInterrupt",
     "evalue": "",
     "output_type": "error",
     "traceback": [
      "\u001b[0;31m---------------------------------------------------------------------------\u001b[0m",
      "\u001b[0;31mKeyboardInterrupt\u001b[0m                         Traceback (most recent call last)",
      "\u001b[0;32m<ipython-input-4-58ab8030fe15>\u001b[0m in \u001b[0;36m<module>\u001b[0;34m\u001b[0m\n\u001b[1;32m     26\u001b[0m         \u001b[0msuccess\u001b[0m\u001b[0;34m,\u001b[0m \u001b[0midx\u001b[0m\u001b[0;34m,\u001b[0m \u001b[0meef_pos\u001b[0m\u001b[0;34m,\u001b[0m \u001b[0meef_quat\u001b[0m \u001b[0;34m=\u001b[0m \u001b[0mrun_action\u001b[0m\u001b[0;34m(\u001b[0m\u001b[0mrbt\u001b[0m\u001b[0;34m,\u001b[0m \u001b[0mview_U\u001b[0m\u001b[0;34m,\u001b[0m \u001b[0;36m20\u001b[0m\u001b[0;34m)\u001b[0m\u001b[0;34m\u001b[0m\u001b[0;34m\u001b[0m\u001b[0m\n\u001b[1;32m     27\u001b[0m         \u001b[0mrbt\u001b[0m\u001b[0;34m.\u001b[0m\u001b[0mactive_controller\u001b[0m\u001b[0;34m.\u001b[0m\u001b[0msend_command\u001b[0m\u001b[0;34m(\u001b[0m\u001b[0mnp\u001b[0m\u001b[0;34m.\u001b[0m\u001b[0mzeros\u001b[0m\u001b[0;34m(\u001b[0m\u001b[0;36m7\u001b[0m\u001b[0;34m)\u001b[0m\u001b[0;34m)\u001b[0m\u001b[0;34m\u001b[0m\u001b[0;34m\u001b[0m\u001b[0m\n\u001b[0;32m---> 28\u001b[0;31m         \u001b[0mtime\u001b[0m\u001b[0;34m.\u001b[0m\u001b[0msleep\u001b[0m\u001b[0;34m(\u001b[0m\u001b[0;36m1.5\u001b[0m\u001b[0;34m)\u001b[0m\u001b[0;34m\u001b[0m\u001b[0;34m\u001b[0m\u001b[0m\n\u001b[0m\u001b[1;32m     29\u001b[0m         \u001b[0mcell_pos\u001b[0m\u001b[0;34m,\u001b[0m \u001b[0mcell_idx\u001b[0m \u001b[0;34m=\u001b[0m \u001b[0mgridRegistrator\u001b[0m\u001b[0;34m.\u001b[0m\u001b[0mget_first_free_cell\u001b[0m\u001b[0;34m(\u001b[0m\u001b[0;34m)\u001b[0m\u001b[0;34m\u001b[0m\u001b[0;34m\u001b[0m\u001b[0m\n\u001b[1;32m     30\u001b[0m         \u001b[0;32mif\u001b[0m \u001b[0mcell_pos\u001b[0m \u001b[0;32mis\u001b[0m \u001b[0;32mnot\u001b[0m \u001b[0;32mNone\u001b[0m\u001b[0;34m:\u001b[0m\u001b[0;34m\u001b[0m\u001b[0;34m\u001b[0m\u001b[0m\n",
      "\u001b[0;31mKeyboardInterrupt\u001b[0m: "
     ]
    }
   ],
   "source": [
    "while True:\n",
    "    restart_controller(rbt)\n",
    "    try:\n",
    "        result_msg = rospy.wait_for_message(\"/aruco_simple/result\", Image, timeout=1)\n",
    "    except rospy.ROSException:\n",
    "        print(\"Aruco topic not available\")\n",
    "        break\n",
    "    \n",
    "    result = bridge.imgmsg_to_cv2(result_msg, desired_encoding=\"passthrough\")\n",
    "    result = cv2.cvtColor(result, cv2.COLOR_BGR2RGB)\n",
    "    cv2.imshow(\"result\", result)\n",
    "    cell_pos, cell_idx = gridRegistrator.get_first_free_cell()\n",
    "\n",
    "    #load pos and orn from json file\n",
    "    with open('config/gridSearch_pos.json') as json_file:\n",
    "        gridSearch_views = json.load(json_file)\n",
    "\n",
    "    keys = gridSearch_views.keys()\n",
    "    for view_idx, key in enumerate(keys):\n",
    "        horizon = 30\n",
    "        view_jpos, view_x_pos, view_U, view_Ks, view_ds, pos_dif, orn_dif = traj_gen.direct_trajectory(rbt.q, rbt.dq, gridSearch_views[key][\"pos\"], gridSearch_views[key][\"orn_wxyz\"], horizon)\n",
    "        if pos_dif > 0.035:\n",
    "            print(\"Trajectory could not reach view continue to next view\")\n",
    "            continue\n",
    "        view_U = np.array(view_U)\n",
    "        success, idx, eef_pos, eef_quat = run_action(rbt, view_U, 20)\n",
    "        rbt.active_controller.send_command(np.zeros(7))\n",
    "        time.sleep(1.5)\n",
    "        cell_pos, cell_idx = gridRegistrator.get_first_free_cell()\n",
    "        if cell_pos is not None:\n",
    "            break\n",
    "\n",
    "    if cell_pos is None:\n",
    "        print(\"No free cell\")\n",
    "    else:\n",
    "        # cell_pos = cell_pose.position\n",
    "        dispose_pos = cell_pos\n",
    "        dispose_orn_wxyz = np.array([0, 1, 0.35, 0])\n",
    "        try:\n",
    "            result_msg = rospy.wait_for_message(\"/grid_generator/result\", Image, timeout=1)\n",
    "            result = bridge.imgmsg_to_cv2(result_msg, desired_encoding=\"passthrough\")\n",
    "            result = cv2.cvtColor(result, cv2.COLOR_BGR2RGB)\n",
    "        except:\n",
    "            print(\"no grid generator image received\")\n",
    "        cv2.imshow(\"result\", result)\n",
    "        key = cv2.waitKey(0)\n",
    "        if key == ord(\"r\"):\n",
    "            continue\n",
    "        cv2.destroyAllWindows()\n",
    "        break\n",
    "\n",
    "    key = cv2.waitKey(0)\n",
    "    if key == ord(\"q\"):\n",
    "        cv2.destroyAllWindows()\n",
    "        break\n"
   ]
  },
  {
   "attachments": {},
   "cell_type": "markdown",
   "metadata": {},
   "source": [
    "# Grasping"
   ]
  },
  {
   "cell_type": "code",
   "execution_count": 137,
   "metadata": {},
   "outputs": [
    {
     "name": "stdout",
     "output_type": "stream",
     "text": [
      "6.513765211935141e-07\n",
      "[0.24228807 0.27354756 0.55514816]\n",
      "view0\n"
     ]
    },
    {
     "ename": "ROSException",
     "evalue": "timeout exceeded while waiting for message on topic /camera/color/image_raw",
     "output_type": "error",
     "traceback": [
      "\u001b[0;31m---------------------------------------------------------------------------\u001b[0m",
      "\u001b[0;31mROSException\u001b[0m                              Traceback (most recent call last)",
      "\u001b[0;32m<ipython-input-137-7c42a4ab9d5d>\u001b[0m in \u001b[0;36m<module>\u001b[0;34m\u001b[0m\n\u001b[1;32m     29\u001b[0m         \u001b[0mprint\u001b[0m\u001b[0;34m(\u001b[0m\u001b[0mkey\u001b[0m\u001b[0;34m)\u001b[0m\u001b[0;34m\u001b[0m\u001b[0;34m\u001b[0m\u001b[0m\n\u001b[1;32m     30\u001b[0m \u001b[0;34m\u001b[0m\u001b[0m\n\u001b[0;32m---> 31\u001b[0;31m     \u001b[0mrbg_cv\u001b[0m\u001b[0;34m,\u001b[0m \u001b[0mdepth_cv\u001b[0m\u001b[0;34m,\u001b[0m \u001b[0mdepth_scale\u001b[0m \u001b[0;34m=\u001b[0m \u001b[0mcamera\u001b[0m\u001b[0;34m.\u001b[0m\u001b[0mget_rgb_depth\u001b[0m\u001b[0;34m(\u001b[0m\u001b[0;34m)\u001b[0m\u001b[0;34m\u001b[0m\u001b[0;34m\u001b[0m\u001b[0m\n\u001b[0m\u001b[1;32m     32\u001b[0m     \u001b[0mdepth_cv\u001b[0m \u001b[0;34m=\u001b[0m \u001b[0mdepth_cv\u001b[0m \u001b[0;34m*\u001b[0m \u001b[0mdepth_scale\u001b[0m\u001b[0;34m\u001b[0m\u001b[0;34m\u001b[0m\u001b[0m\n\u001b[1;32m     33\u001b[0m \u001b[0;34m\u001b[0m\u001b[0m\n",
      "\u001b[0;32m~/Documents/ros_ws/src/fruit_packaging_real_time_computer/src/utils/camera_utils.py\u001b[0m in \u001b[0;36mget_rgb_depth\u001b[0;34m(self)\u001b[0m\n\u001b[1;32m     55\u001b[0m \u001b[0;34m\u001b[0m\u001b[0m\n\u001b[1;32m     56\u001b[0m     \u001b[0;32mdef\u001b[0m \u001b[0mget_rgb_depth\u001b[0m\u001b[0;34m(\u001b[0m\u001b[0mself\u001b[0m\u001b[0;34m)\u001b[0m\u001b[0;34m:\u001b[0m\u001b[0;34m\u001b[0m\u001b[0;34m\u001b[0m\u001b[0m\n\u001b[0;32m---> 57\u001b[0;31m         \u001b[0mcv_image\u001b[0m \u001b[0;34m=\u001b[0m \u001b[0mself\u001b[0m\u001b[0;34m.\u001b[0m\u001b[0mget_rgb_only\u001b[0m\u001b[0;34m(\u001b[0m\u001b[0;34m)\u001b[0m\u001b[0;34m\u001b[0m\u001b[0;34m\u001b[0m\u001b[0m\n\u001b[0m\u001b[1;32m     58\u001b[0m         \u001b[0mdepth_image\u001b[0m \u001b[0;34m=\u001b[0m \u001b[0mself\u001b[0m\u001b[0;34m.\u001b[0m\u001b[0mget_depth_only\u001b[0m\u001b[0;34m(\u001b[0m\u001b[0;34m)\u001b[0m\u001b[0;34m\u001b[0m\u001b[0;34m\u001b[0m\u001b[0m\n\u001b[1;32m     59\u001b[0m         \u001b[0;32mreturn\u001b[0m \u001b[0mcv_image\u001b[0m\u001b[0;34m,\u001b[0m \u001b[0mdepth_image\u001b[0m\u001b[0;34m,\u001b[0m \u001b[0;36m1\u001b[0m\u001b[0;34m\u001b[0m\u001b[0;34m\u001b[0m\u001b[0m\n",
      "\u001b[0;32m~/Documents/ros_ws/src/fruit_packaging_real_time_computer/src/utils/camera_utils.py\u001b[0m in \u001b[0;36mget_rgb_only\u001b[0;34m(self)\u001b[0m\n\u001b[1;32m     36\u001b[0m         \"\"\"\n\u001b[1;32m     37\u001b[0m         \u001b[0mbridge\u001b[0m \u001b[0;34m=\u001b[0m \u001b[0mCvBridge\u001b[0m\u001b[0;34m(\u001b[0m\u001b[0;34m)\u001b[0m\u001b[0;34m\u001b[0m\u001b[0;34m\u001b[0m\u001b[0m\n\u001b[0;32m---> 38\u001b[0;31m         \u001b[0mimg_data\u001b[0m \u001b[0;34m=\u001b[0m \u001b[0mrospy\u001b[0m\u001b[0;34m.\u001b[0m\u001b[0mwait_for_message\u001b[0m\u001b[0;34m(\u001b[0m\u001b[0;34m\"/camera/color/image_raw\"\u001b[0m\u001b[0;34m,\u001b[0m \u001b[0mImage\u001b[0m\u001b[0;34m,\u001b[0m \u001b[0mtimeout\u001b[0m\u001b[0;34m=\u001b[0m\u001b[0;36m0.5\u001b[0m\u001b[0;34m)\u001b[0m\u001b[0;34m\u001b[0m\u001b[0;34m\u001b[0m\u001b[0m\n\u001b[0m\u001b[1;32m     39\u001b[0m         \u001b[0mcv_image\u001b[0m \u001b[0;34m=\u001b[0m \u001b[0mbridge\u001b[0m\u001b[0;34m.\u001b[0m\u001b[0mimgmsg_to_cv2\u001b[0m\u001b[0;34m(\u001b[0m\u001b[0mimg_data\u001b[0m\u001b[0;34m,\u001b[0m \u001b[0;34m\"passthrough\"\u001b[0m\u001b[0;34m)\u001b[0m\u001b[0;34m\u001b[0m\u001b[0;34m\u001b[0m\u001b[0m\n\u001b[1;32m     40\u001b[0m \u001b[0;34m\u001b[0m\u001b[0m\n",
      "\u001b[0;32m/opt/ros/noetic/lib/python3/dist-packages/rospy/client.py\u001b[0m in \u001b[0;36mwait_for_message\u001b[0;34m(topic, topic_type, timeout)\u001b[0m\n\u001b[1;32m    417\u001b[0m                 \u001b[0mrospy\u001b[0m\u001b[0;34m.\u001b[0m\u001b[0mrostime\u001b[0m\u001b[0;34m.\u001b[0m\u001b[0mwallsleep\u001b[0m\u001b[0;34m(\u001b[0m\u001b[0;36m0.01\u001b[0m\u001b[0;34m)\u001b[0m\u001b[0;34m\u001b[0m\u001b[0;34m\u001b[0m\u001b[0m\n\u001b[1;32m    418\u001b[0m                 \u001b[0;32mif\u001b[0m \u001b[0mtime\u001b[0m\u001b[0;34m.\u001b[0m\u001b[0mtime\u001b[0m\u001b[0;34m(\u001b[0m\u001b[0;34m)\u001b[0m \u001b[0;34m>=\u001b[0m \u001b[0mtimeout_t\u001b[0m\u001b[0;34m:\u001b[0m\u001b[0;34m\u001b[0m\u001b[0;34m\u001b[0m\u001b[0m\n\u001b[0;32m--> 419\u001b[0;31m                     \u001b[0;32mraise\u001b[0m \u001b[0mrospy\u001b[0m\u001b[0;34m.\u001b[0m\u001b[0mexceptions\u001b[0m\u001b[0;34m.\u001b[0m\u001b[0mROSException\u001b[0m\u001b[0;34m(\u001b[0m\u001b[0;34m\"timeout exceeded while waiting for message on topic %s\"\u001b[0m\u001b[0;34m%\u001b[0m\u001b[0mtopic\u001b[0m\u001b[0;34m)\u001b[0m\u001b[0;34m\u001b[0m\u001b[0;34m\u001b[0m\u001b[0m\n\u001b[0m\u001b[1;32m    420\u001b[0m \u001b[0;34m\u001b[0m\u001b[0m\n\u001b[1;32m    421\u001b[0m         \u001b[0;32melse\u001b[0m\u001b[0;34m:\u001b[0m\u001b[0;34m\u001b[0m\u001b[0;34m\u001b[0m\u001b[0m\n",
      "\u001b[0;31mROSException\u001b[0m: timeout exceeded while waiting for message on topic /camera/color/image_raw"
     ]
    }
   ],
   "source": [
    "#load pos and orn from json file\n",
    "with open('config/views_pos.json') as json_file:\n",
    "    views_pos = json.load(json_file)\n",
    "\n",
    "pos_dif = 1000\n",
    "keys = views_pos.keys()\n",
    "angle_range = [-140, 40]\n",
    "pc_fused = []\n",
    "pc_colors_fused = []\n",
    "reference_pose = np.eye(4)\n",
    "\n",
    "for view_idx, key in enumerate(keys):\n",
    "# while (not detected or not detected_with_collision):\n",
    "    horizon = 30\n",
    "    if abs(np.sum(np.array(rbt.model.ee_pos_rel()) - np.array(views_pos[key][\"pos\"]))) > 0.01:\n",
    "        view_jpos, view_x_pos, view_U, view_Ks, view_ds, pos_dif, orn_dif = traj_gen.direct_trajectory(rbt.q, rbt.dq, views_pos[key][\"pos\"], views_pos[key][\"orn_wxyz\"], horizon)\n",
    "\n",
    "        if pos_dif > 0.035:\n",
    "            print(\"Trajectory could not reach view continue to next view\")\n",
    "            continue\n",
    "\n",
    "        view_U = np.array(view_U)\n",
    "        success, idx, eef_pos, eef_quat = run_action(rbt, view_U, 20)\n",
    "        rbt.active_controller.send_command(np.zeros(7))\n",
    "        time.sleep(0.15)\n",
    "    else:\n",
    "        print( np.sum(np.array(rbt.model.ee_pos_rel()) - np.array(views_pos[key][\"pos\"])))\n",
    "        print(np.array(views_pos[key][\"pos\"]))\n",
    "        print(key)\n",
    "    \n",
    "    rbg_cv, depth_cv, depth_scale = camera.get_rgb_depth()\n",
    "    depth_cv = depth_cv * depth_scale\n",
    " \n",
    "    current_pose = get_camera_pose(rbt, ee_depth=-0.110)\n",
    "\n",
    "    if view_idx == 0:\n",
    "        init_pos = rbt.model.ee_pos_rel()\n",
    "        init_orn_wxyz = rbt.model.ee_orn_rel()\n",
    "        reference_pose = get_camera_pose(rbt, ee_depth=-0.10340)\n",
    "        depth_init = depth_cv\n",
    "        rgb_init = rbg_cv\n",
    "        pc_fused, pc_colors_fused = depth2pc(depth_init, intrinsic, rgb_init)\n",
    "        pc_fused, pc_colors_fused = regularize_pc(pc_fused, pc_colors_fused, \n",
    "                                                  downsampling_method=\"voxel\", voxel_size=0.005,\n",
    "                                                  outlier_filtering_method=\"radius\", radius_param_arg=[25, 0.015])\n",
    "    else:\n",
    "        pc_fused, pc_colors_fused = add_view2pc(pc_fused, pc_colors_fused, reference_pose, current_pose, new_gbr=rbg_cv, \n",
    "                                                new_depth=depth_cv, cam_intrisic=intrinsic, regularize=True, voxel_size=0.005)\n",
    "    pc2_msg = format_pointcloud_msg(pc_fused, pc_colors_fused)\n",
    "    bgr = cv2.cvtColor(rgb_init, cv2.COLOR_RGB2BGR)\n",
    "    bgr_msg = bridge.cv2_to_imgmsg(rgb_init, encoding=\"bgr8\")\n",
    "\n",
    "    orn, pos, opening, score, detected, detected_with_collision = generate_grasps_client(pc2_msg, bgr_msg)\n",
    "\n",
    "    if (detected or detected_with_collision) and opening > 0.03:\n",
    "        grasp_pos_world, grasps_orn_world_xyzw = poseCam2World(pos, orn, reference_pose)      \n",
    "        grasps_orn_world_xyzw = correct_angle(grasps_orn_world_xyzw, angle_range)\n",
    "        grasp_orn_world_wxyz = convert_quat(grasps_orn_world_xyzw, to=\"wxyz\")\n",
    "        print(\"--------------------------------------------------------------------------\")\n",
    "        print(\"\\n\\ngrasps in world frame :\\n pos :\", grasp_pos_world, \"\\n grasps_orn_world :\", grasps_orn_world_xyzw, \"\\ngrasp world rot\",  Rotation.from_quat(grasps_orn_world_xyzw).as_euler(\"XYZ\", degrees=True))\n",
    "        print(\"------------------------------------ --------------------------------------\")\n",
    "        break\n",
    "    break"
   ]
  },
  {
   "attachments": {},
   "cell_type": "markdown",
   "metadata": {},
   "source": [
    "# trajectory"
   ]
  },
  {
   "cell_type": "code",
   "execution_count": 129,
   "metadata": {},
   "outputs": [
    {
     "name": "stdout",
     "output_type": "stream",
     "text": [
      "[[  0   0   0   0   0]\n",
      " [  0   0   0   0   0]\n",
      " [  0   0   0   0   0]\n",
      " [255 255 255 255   0]]\n"
     ]
    }
   ],
   "source": [
    "cell_pos, cell_idx = gridRegistrator.get_first_free_cell()\n",
    "if cell_pos is None:\n",
    "    print(\"No free cell\")\n",
    "else:\n",
    "    # cell_pos = cell_pose.position\n",
    "    print(gridRegistrator.get_disposability_grid())\n",
    "    dispose_pos = cell_pos + np.array([0., 0., 0.025])\n",
    "    dispose_orn_wxyz = np.array([0, 1, 0.35, 0])"
   ]
  },
  {
   "cell_type": "code",
   "execution_count": 130,
   "metadata": {},
   "outputs": [
    {
     "name": "stdout",
     "output_type": "stream",
     "text": [
      "1000\n",
      "WARNING: final position not reached, position difference is 0.029386810405415773\n"
     ]
    },
    {
     "data": {
      "image/png": "[encoded data removed]",
      "text/plain": [
       "<Figure size 432x288 with 1 Axes>"
      ]
     },
     "metadata": {
      "needs_background": "light"
     },
     "output_type": "display_data"
    }
   ],
   "source": [
    "grasp_horizon = 60\n",
    "grasp_jpos, grasp_x_pos, grasp_U, grasp_Ks, grasp_ds, pos_dif, orn_dif = traj_gen.grasping_trajectory(rbt.q, rbt.dq, grasp_pos_world, grasp_orn_world_wxyz, grasp_horizon)\n",
    "pos_threshold = 0.015\n",
    "if pos_dif > pos_threshold:\n",
    "    print(\"grasp trajectory error please change viewpose\")\n",
    "grasp_q = grasp_jpos[-1]\n",
    "grasp_dq = np.zeros_like(grasp_q)\n",
    "dispose_jpos, dispose_x_pos, dispose_U, dispose_Ks, dispose_ds, pos_dif, orn_dif = traj_gen.dispose_trajectory(grasp_q, grasp_dq, grasp_pos_world, grasp_orn_world_wxyz, dispose_pos, dispose_orn_wxyz, 120)\n",
    "iLQR.plot_trajectory(init_pos, grasp_pos_world, grasp_x_pos, dispose_x_pos)\n"
   ]
  },
  {
   "cell_type": "code",
   "execution_count": 131,
   "metadata": {},
   "outputs": [
    {
     "data": {
      "text/plain": [
       "True"
      ]
     },
     "execution_count": 131,
     "metadata": {},
     "output_type": "execute_result"
    }
   ],
   "source": [
    "# Move to the grasp pose\n",
    "if opening + 0.011 <= 0.08:\n",
    "    rbt.gripper.move(width=opening + 0.015)\n",
    "else:\n",
    "    rbt.gripper.move(width=0.08)\n",
    "\n",
    "# Grasp the object\n",
    "grasp_U = np.array(grasp_U)\n",
    "success, idx, eef_pos, eef_quat = run_action(rbt, grasp_U[:-30], 20)\n",
    "rbt.active_controller.send_command(np.zeros(7))\n",
    "time.sleep(1)\n",
    "success, idx, eef_pos, eef_quat = run_action(rbt, grasp_U[-30:], 20)\n",
    "rbt.active_controller.send_command(np.zeros(7))\n",
    "rbt.gripper.move(width=opening-0.015)\n"
   ]
  },
  {
   "cell_type": "code",
   "execution_count": 132,
   "metadata": {},
   "outputs": [
    {
     "data": {
      "text/plain": [
       "True"
      ]
     },
     "execution_count": 132,
     "metadata": {},
     "output_type": "execute_result"
    }
   ],
   "source": [
    "\n",
    "# Dispose the object\n",
    "dispose_U = np.array(dispose_U)\n",
    "success, idx, eef_pos, eef_quat = run_action(rbt, dispose_U, 20)\n",
    "rbt.active_controller.send_command(np.zeros(7))\n",
    "rbt.gripper.stop()\n",
    "rbt.gripper.move(width=0.082)\n",
    "\n",
    "# Register the object in the grid\n",
    "gridRegistrator.set_cell_occupancy(cell_idx, 0)"
   ]
  },
  {
   "cell_type": "code",
   "execution_count": 121,
   "metadata": {},
   "outputs": [],
   "source": [
    "return_horizon = 45\n",
    "return_jpos, return_x_pos, return_U, return_Ks, return_ds, pos_dif, orn_dif = traj_gen.return_trajectory(rbt.q, rbt.dq, dispose_pos, dispose_orn_wxyz, init_pos, init_orn_wxyz, return_horizon)\n",
    "return_U = np.array(return_U)\n",
    "success, idx, eef_pos, eef_quat = run_action(rbt, return_U, 20)\n",
    "rbt.active_controller.send_command(np.zeros(7))"
   ]
  },
  {
   "cell_type": "code",
   "execution_count": 133,
   "metadata": {},
   "outputs": [
    {
     "name": "stderr",
     "output_type": "stream",
     "text": [
      "[WARN] [1687266471.462672]: No controllers are running\n"
     ]
    }
   ],
   "source": [
    "restart_controller(rbt)"
   ]
  },
  {
   "cell_type": "code",
   "execution_count": null,
   "metadata": {},
   "outputs": [],
   "source": [
    "rbt.stop_controller()"
   ]
  },
  {
   "attachments": {},
   "cell_type": "markdown",
   "metadata": {},
   "source": [
    "# Miscellaneous"
   ]
  },
  {
   "attachments": {},
   "cell_type": "markdown",
   "metadata": {},
   "source": [
    "## Get end effector pos"
   ]
  },
  {
   "cell_type": "code",
   "execution_count": null,
   "metadata": {},
   "outputs": [],
   "source": [
    "print(\"rbt end effector pos:\", rbt.model.ee_pos_rel())\n",
    "print(\"rbt end effector quat (wxyz):\", rbt.model.ee_orn_rel())\n",
    "print(\"eef rot\",  Rotation.from_quat(convert_quat(rbt.model.ee_orn_rel(), to=\"xyzw\")).as_euler(\"xyz\", degrees=True))\n"
   ]
  },
  {
   "attachments": {},
   "cell_type": "markdown",
   "metadata": {},
   "source": [
    "## Show pc with open3d"
   ]
  },
  {
   "cell_type": "code",
   "execution_count": null,
   "metadata": {},
   "outputs": [],
   "source": [
    "import open3d as o3d\n",
    "pc_o3d = o3d.geometry.PointCloud()\n",
    "pc_o3d.points = o3d.utility.Vector3dVector(pc_fused)\n",
    "pc_o3d.colors = o3d.utility.Vector3dVector(pc_colors_fused/255)\n",
    "coordinate = o3d.geometry.TriangleMesh.create_coordinate_frame(size=0.1)\n",
    "coordinate.translate([0,0 , 0.4])\n",
    "o3d.visualization.draw_geometries([coordinate, pc_o3d])"
   ]
  }
 ],
 "metadata": {
  "kernelspec": {
   "display_name": "Python 3 (ipykernel)",
   "language": "python",
   "name": "python3"
  },
  "language_info": {
   "codemirror_mode": {
    "name": "ipython",
    "version": 3
   },
   "file_extension": ".py",
   "mimetype": "text/x-python",
   "name": "python",
   "nbconvert_exporter": "python",
   "pygments_lexer": "ipython3",
   "version": "3.8.10"
  },
  "orig_nbformat": 4
 },
 "nbformat": 4,
 "nbformat_minor": 2
}
