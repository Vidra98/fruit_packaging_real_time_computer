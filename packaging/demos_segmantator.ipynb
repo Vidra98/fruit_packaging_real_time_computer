{
 "cells": [
  {
   "cell_type": "code",
   "execution_count": null,
   "metadata": {},
   "outputs": [],
   "source": [
    "# from utils.segmentation import YOLOSegmentation\n",
    "import cv2\n",
    "import numpy as np\n",
    "import rospy\n",
    "from cv_bridge import CvBridge, CvBridgeError\n",
    "from sensor_msgs.msg import Image\n",
    "from contact_grasp.srv import segmentationSrv, segmentationSrvResponse\n",
    "from utils.camera_utils import RealCamera, RealCameraROS"
   ]
  },
  {
   "attachments": {},
   "cell_type": "markdown",
   "metadata": {},
   "source": [
    "# Demo of segmentator \n",
    "\n",
    "please launch the YOLO ros segmentation with either:\n",
    "\n",
    "roslaunch yolov8_ros segmentation_rqt.launch\\\n",
    "roslaunch yolov8_ros segmentation.launch"
   ]
  },
  {
   "cell_type": "code",
   "execution_count": null,
   "metadata": {},
   "outputs": [],
   "source": [
    "print(\"Start\")\n",
    "rospy.init_node(\"python_node\",anonymous=True)\n",
    "\n",
    "camera_connexion = \"pyWrapper\"\n",
    "if camera_connexion == \"ROS\":\n",
    "    camera = RealCameraROS()\n",
    "    intrinsic, distortion = camera.getIntrinsic()\n",
    "elif camera_connexion == \"pyWrapper\":\n",
    "    camera = RealCamera()\n",
    "    camera.start()\n",
    "    #retrieve image and depth\n",
    "    for i in range(15):\n",
    "        rgb, depth_image, depth_scale = camera.get_rgb_depth()\n",
    "\n",
    "    rgb, depth_image, depth_scale = camera.get_rgb_depth()\n",
    "    intrinsic, distortion = camera.getIntrinsic()\n",
    "else:\n",
    "    raise Exception(\"Please choose a valid camera connexion method: ROS or pyWrapper\")\n",
    "\n",
    "bridge = CvBridge()\n",
    "\n",
    "while not rospy.is_shutdown():\n",
    "    # img_data = rospy.wait_for_message(\"/camera/color/image_raw\", Image, timeout=0.5)\n",
    "    rgb = camera.get_rgb_only()\n",
    "    bgr = cv2.cvtColor(rgb, cv2.COLOR_RGB2BGR)\n",
    "\n",
    "    #load cv image\n",
    "    # img = cv2.imread(\"/home/vdrame/bgr.png\")\n",
    "\n",
    "    #convert to ros image\n",
    "    ros_img = bridge.cv2_to_imgmsg(bgr, encoding=\"bgr8\")\n",
    "\n",
    "    #call service\n",
    "    rospy.wait_for_service(\"segmentation\")\n",
    "\n",
    "    try:\n",
    "        segmentation = rospy.ServiceProxy(\"segmentation\", segmentationSrv)\n",
    "        resp = segmentation(ros_img)\n",
    "    except rospy.ServiceException as e:\n",
    "        print(e)\n",
    "\n",
    "    #convert to cv image\n",
    "    cv_img = bridge.imgmsg_to_cv2(resp.image, desired_encoding=\"passthrough\")\n",
    "    print(np.unique(cv_img))\n",
    "    #show image\n",
    "    cv2.imshow(\"segmented image\", cv_img)\n",
    "    cv2.imshow(\"rgb\", rgb)\n",
    "    key=cv2.waitKey(25)\n",
    "    if key == ord('q'):\n",
    "        cv2.destroyAllWindows()\n",
    "        break\n"
   ]
  },
  {
   "cell_type": "code",
   "execution_count": null,
   "metadata": {},
   "outputs": [],
   "source": []
  }
 ],
 "metadata": {
  "kernelspec": {
   "display_name": "base",
   "language": "python",
   "name": "python3"
  },
  "language_info": {
   "codemirror_mode": {
    "name": "ipython",
    "version": 3
   },
   "file_extension": ".py",
   "mimetype": "text/x-python",
   "name": "python",
   "nbconvert_exporter": "python",
   "pygments_lexer": "ipython3",
   "version": "3.7.9"
  },
  "orig_nbformat": 4
 },
 "nbformat": 4,
 "nbformat_minor": 2
}
